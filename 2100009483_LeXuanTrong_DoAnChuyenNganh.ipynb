{
  "nbformat": 4,
  "nbformat_minor": 0,
  "metadata": {
    "colab": {
      "provenance": []
    },
    "kernelspec": {
      "name": "python3",
      "display_name": "Python 3"
    },
    "language_info": {
      "name": "python"
    }
  },
  "cells": [
    {
      "cell_type": "code",
      "source": [
        "from google.colab import drive\n",
        "drive.mount('/content/drive')"
      ],
      "metadata": {
        "colab": {
          "base_uri": "https://localhost:8080/"
        },
        "id": "9kCi2Oltkvtn",
        "outputId": "b50886c3-bed6-47aa-89dd-296e00e6ab21"
      },
      "execution_count": null,
      "outputs": [
        {
          "output_type": "stream",
          "name": "stdout",
          "text": [
            "Drive already mounted at /content/drive; to attempt to forcibly remount, call drive.mount(\"/content/drive\", force_remount=True).\n"
          ]
        }
      ]
    },
    {
      "cell_type": "code",
      "source": [
        "import pandas as pd\n",
        "import matplotlib.pyplot as plt\n",
        "import numpy as np\n",
        "import seaborn as sns\n",
        "\n",
        "from sklearn.model_selection import train_test_split\n",
        "from sklearn.metrics import mean_squared_error\n",
        "from sklearn.ensemble import RandomForestRegressor\n",
        "from sklearn.tree import DecisionTreeRegressor\n",
        "from sklearn.neighbors import KNeighborsRegressor"
      ],
      "metadata": {
        "id": "BtOaUwR2YfqN"
      },
      "execution_count": null,
      "outputs": []
    },
    {
      "cell_type": "code",
      "source": [
        "df = pd.read_csv('/content/drive/MyDrive/Colab Notebooks/Đồ án chuyên ngành KHDL/Dataset/Vcb.csv')\n",
        "df"
      ],
      "metadata": {
        "colab": {
          "base_uri": "https://localhost:8080/",
          "height": 444
        },
        "id": "UB_jZNGHavjl",
        "outputId": "904bb15e-8aeb-4ab1-9a61-28c6d67c655e"
      },
      "execution_count": null,
      "outputs": [
        {
          "output_type": "execute_result",
          "data": {
            "text/plain": [
              "            DATE  Revenue  Profit_Before_Tax  Net_Profit  Profit_Margin  \\\n",
              "0     30/06/2009    12732               4068        6213      48.798303   \n",
              "1       1/7/2009    31243               4463        1411       4.516212   \n",
              "2       2/7/2009    40403               8629        1807       4.472440   \n",
              "3       3/7/2009    42103               1082        1392       3.306178   \n",
              "4       6/7/2009    30757               4843         926       3.010697   \n",
              "...          ...      ...                ...         ...            ...   \n",
              "2637  24/06/2022    24144               9192        3921      16.240060   \n",
              "2638  27/06/2022    43800               9727        2322       5.301370   \n",
              "2639  28/06/2022    45779               5852        7934      17.331091   \n",
              "2640  29/06/2022    37398               5718        7575      20.255094   \n",
              "2641  30/06/2022    37749               1806        4972      13.171210   \n",
              "\n",
              "      Customer_Loans  Loans_from_Other_Organizations  Number_of_Customers  \\\n",
              "0              23360                           14092                 2705   \n",
              "1               6582                           14863                 1090   \n",
              "2              23869                           15019                 7832   \n",
              "3              34905                            9246                 3424   \n",
              "4              27201                            2930                 9234   \n",
              "...              ...                             ...                  ...   \n",
              "2637           39580                            8279                 1985   \n",
              "2638           14430                           10040                 8403   \n",
              "2639           13615                           15608                 4143   \n",
              "2640           19816                           17877                 7913   \n",
              "2641           24632                           19561                 3035   \n",
              "\n",
              "     Customer_Classification  \n",
              "0                     Retail  \n",
              "1                        SME  \n",
              "2                  Corporate  \n",
              "3                     Retail  \n",
              "4                  Corporate  \n",
              "...                      ...  \n",
              "2637               Corporate  \n",
              "2638                  Retail  \n",
              "2639                     SME  \n",
              "2640                  Retail  \n",
              "2641               Corporate  \n",
              "\n",
              "[2642 rows x 9 columns]"
            ],
            "text/html": [
              "\n",
              "  <div id=\"df-9ce92f86-78ae-464e-b01a-1a5087885a7a\" class=\"colab-df-container\">\n",
              "    <div>\n",
              "<style scoped>\n",
              "    .dataframe tbody tr th:only-of-type {\n",
              "        vertical-align: middle;\n",
              "    }\n",
              "\n",
              "    .dataframe tbody tr th {\n",
              "        vertical-align: top;\n",
              "    }\n",
              "\n",
              "    .dataframe thead th {\n",
              "        text-align: right;\n",
              "    }\n",
              "</style>\n",
              "<table border=\"1\" class=\"dataframe\">\n",
              "  <thead>\n",
              "    <tr style=\"text-align: right;\">\n",
              "      <th></th>\n",
              "      <th>DATE</th>\n",
              "      <th>Revenue</th>\n",
              "      <th>Profit_Before_Tax</th>\n",
              "      <th>Net_Profit</th>\n",
              "      <th>Profit_Margin</th>\n",
              "      <th>Customer_Loans</th>\n",
              "      <th>Loans_from_Other_Organizations</th>\n",
              "      <th>Number_of_Customers</th>\n",
              "      <th>Customer_Classification</th>\n",
              "    </tr>\n",
              "  </thead>\n",
              "  <tbody>\n",
              "    <tr>\n",
              "      <th>0</th>\n",
              "      <td>30/06/2009</td>\n",
              "      <td>12732</td>\n",
              "      <td>4068</td>\n",
              "      <td>6213</td>\n",
              "      <td>48.798303</td>\n",
              "      <td>23360</td>\n",
              "      <td>14092</td>\n",
              "      <td>2705</td>\n",
              "      <td>Retail</td>\n",
              "    </tr>\n",
              "    <tr>\n",
              "      <th>1</th>\n",
              "      <td>1/7/2009</td>\n",
              "      <td>31243</td>\n",
              "      <td>4463</td>\n",
              "      <td>1411</td>\n",
              "      <td>4.516212</td>\n",
              "      <td>6582</td>\n",
              "      <td>14863</td>\n",
              "      <td>1090</td>\n",
              "      <td>SME</td>\n",
              "    </tr>\n",
              "    <tr>\n",
              "      <th>2</th>\n",
              "      <td>2/7/2009</td>\n",
              "      <td>40403</td>\n",
              "      <td>8629</td>\n",
              "      <td>1807</td>\n",
              "      <td>4.472440</td>\n",
              "      <td>23869</td>\n",
              "      <td>15019</td>\n",
              "      <td>7832</td>\n",
              "      <td>Corporate</td>\n",
              "    </tr>\n",
              "    <tr>\n",
              "      <th>3</th>\n",
              "      <td>3/7/2009</td>\n",
              "      <td>42103</td>\n",
              "      <td>1082</td>\n",
              "      <td>1392</td>\n",
              "      <td>3.306178</td>\n",
              "      <td>34905</td>\n",
              "      <td>9246</td>\n",
              "      <td>3424</td>\n",
              "      <td>Retail</td>\n",
              "    </tr>\n",
              "    <tr>\n",
              "      <th>4</th>\n",
              "      <td>6/7/2009</td>\n",
              "      <td>30757</td>\n",
              "      <td>4843</td>\n",
              "      <td>926</td>\n",
              "      <td>3.010697</td>\n",
              "      <td>27201</td>\n",
              "      <td>2930</td>\n",
              "      <td>9234</td>\n",
              "      <td>Corporate</td>\n",
              "    </tr>\n",
              "    <tr>\n",
              "      <th>...</th>\n",
              "      <td>...</td>\n",
              "      <td>...</td>\n",
              "      <td>...</td>\n",
              "      <td>...</td>\n",
              "      <td>...</td>\n",
              "      <td>...</td>\n",
              "      <td>...</td>\n",
              "      <td>...</td>\n",
              "      <td>...</td>\n",
              "    </tr>\n",
              "    <tr>\n",
              "      <th>2637</th>\n",
              "      <td>24/06/2022</td>\n",
              "      <td>24144</td>\n",
              "      <td>9192</td>\n",
              "      <td>3921</td>\n",
              "      <td>16.240060</td>\n",
              "      <td>39580</td>\n",
              "      <td>8279</td>\n",
              "      <td>1985</td>\n",
              "      <td>Corporate</td>\n",
              "    </tr>\n",
              "    <tr>\n",
              "      <th>2638</th>\n",
              "      <td>27/06/2022</td>\n",
              "      <td>43800</td>\n",
              "      <td>9727</td>\n",
              "      <td>2322</td>\n",
              "      <td>5.301370</td>\n",
              "      <td>14430</td>\n",
              "      <td>10040</td>\n",
              "      <td>8403</td>\n",
              "      <td>Retail</td>\n",
              "    </tr>\n",
              "    <tr>\n",
              "      <th>2639</th>\n",
              "      <td>28/06/2022</td>\n",
              "      <td>45779</td>\n",
              "      <td>5852</td>\n",
              "      <td>7934</td>\n",
              "      <td>17.331091</td>\n",
              "      <td>13615</td>\n",
              "      <td>15608</td>\n",
              "      <td>4143</td>\n",
              "      <td>SME</td>\n",
              "    </tr>\n",
              "    <tr>\n",
              "      <th>2640</th>\n",
              "      <td>29/06/2022</td>\n",
              "      <td>37398</td>\n",
              "      <td>5718</td>\n",
              "      <td>7575</td>\n",
              "      <td>20.255094</td>\n",
              "      <td>19816</td>\n",
              "      <td>17877</td>\n",
              "      <td>7913</td>\n",
              "      <td>Retail</td>\n",
              "    </tr>\n",
              "    <tr>\n",
              "      <th>2641</th>\n",
              "      <td>30/06/2022</td>\n",
              "      <td>37749</td>\n",
              "      <td>1806</td>\n",
              "      <td>4972</td>\n",
              "      <td>13.171210</td>\n",
              "      <td>24632</td>\n",
              "      <td>19561</td>\n",
              "      <td>3035</td>\n",
              "      <td>Corporate</td>\n",
              "    </tr>\n",
              "  </tbody>\n",
              "</table>\n",
              "<p>2642 rows × 9 columns</p>\n",
              "</div>\n",
              "    <div class=\"colab-df-buttons\">\n",
              "\n",
              "  <div class=\"colab-df-container\">\n",
              "    <button class=\"colab-df-convert\" onclick=\"convertToInteractive('df-9ce92f86-78ae-464e-b01a-1a5087885a7a')\"\n",
              "            title=\"Convert this dataframe to an interactive table.\"\n",
              "            style=\"display:none;\">\n",
              "\n",
              "  <svg xmlns=\"http://www.w3.org/2000/svg\" height=\"24px\" viewBox=\"0 -960 960 960\">\n",
              "    <path d=\"M120-120v-720h720v720H120Zm60-500h600v-160H180v160Zm220 220h160v-160H400v160Zm0 220h160v-160H400v160ZM180-400h160v-160H180v160Zm440 0h160v-160H620v160ZM180-180h160v-160H180v160Zm440 0h160v-160H620v160Z\"/>\n",
              "  </svg>\n",
              "    </button>\n",
              "\n",
              "  <style>\n",
              "    .colab-df-container {\n",
              "      display:flex;\n",
              "      gap: 12px;\n",
              "    }\n",
              "\n",
              "    .colab-df-convert {\n",
              "      background-color: #E8F0FE;\n",
              "      border: none;\n",
              "      border-radius: 50%;\n",
              "      cursor: pointer;\n",
              "      display: none;\n",
              "      fill: #1967D2;\n",
              "      height: 32px;\n",
              "      padding: 0 0 0 0;\n",
              "      width: 32px;\n",
              "    }\n",
              "\n",
              "    .colab-df-convert:hover {\n",
              "      background-color: #E2EBFA;\n",
              "      box-shadow: 0px 1px 2px rgba(60, 64, 67, 0.3), 0px 1px 3px 1px rgba(60, 64, 67, 0.15);\n",
              "      fill: #174EA6;\n",
              "    }\n",
              "\n",
              "    .colab-df-buttons div {\n",
              "      margin-bottom: 4px;\n",
              "    }\n",
              "\n",
              "    [theme=dark] .colab-df-convert {\n",
              "      background-color: #3B4455;\n",
              "      fill: #D2E3FC;\n",
              "    }\n",
              "\n",
              "    [theme=dark] .colab-df-convert:hover {\n",
              "      background-color: #434B5C;\n",
              "      box-shadow: 0px 1px 3px 1px rgba(0, 0, 0, 0.15);\n",
              "      filter: drop-shadow(0px 1px 2px rgba(0, 0, 0, 0.3));\n",
              "      fill: #FFFFFF;\n",
              "    }\n",
              "  </style>\n",
              "\n",
              "    <script>\n",
              "      const buttonEl =\n",
              "        document.querySelector('#df-9ce92f86-78ae-464e-b01a-1a5087885a7a button.colab-df-convert');\n",
              "      buttonEl.style.display =\n",
              "        google.colab.kernel.accessAllowed ? 'block' : 'none';\n",
              "\n",
              "      async function convertToInteractive(key) {\n",
              "        const element = document.querySelector('#df-9ce92f86-78ae-464e-b01a-1a5087885a7a');\n",
              "        const dataTable =\n",
              "          await google.colab.kernel.invokeFunction('convertToInteractive',\n",
              "                                                    [key], {});\n",
              "        if (!dataTable) return;\n",
              "\n",
              "        const docLinkHtml = 'Like what you see? Visit the ' +\n",
              "          '<a target=\"_blank\" href=https://colab.research.google.com/notebooks/data_table.ipynb>data table notebook</a>'\n",
              "          + ' to learn more about interactive tables.';\n",
              "        element.innerHTML = '';\n",
              "        dataTable['output_type'] = 'display_data';\n",
              "        await google.colab.output.renderOutput(dataTable, element);\n",
              "        const docLink = document.createElement('div');\n",
              "        docLink.innerHTML = docLinkHtml;\n",
              "        element.appendChild(docLink);\n",
              "      }\n",
              "    </script>\n",
              "  </div>\n",
              "\n",
              "\n",
              "<div id=\"df-0f4aa57f-0d83-445d-bfc0-bc39bfd16fb2\">\n",
              "  <button class=\"colab-df-quickchart\" onclick=\"quickchart('df-0f4aa57f-0d83-445d-bfc0-bc39bfd16fb2')\"\n",
              "            title=\"Suggest charts\"\n",
              "            style=\"display:none;\">\n",
              "\n",
              "<svg xmlns=\"http://www.w3.org/2000/svg\" height=\"24px\"viewBox=\"0 0 24 24\"\n",
              "     width=\"24px\">\n",
              "    <g>\n",
              "        <path d=\"M19 3H5c-1.1 0-2 .9-2 2v14c0 1.1.9 2 2 2h14c1.1 0 2-.9 2-2V5c0-1.1-.9-2-2-2zM9 17H7v-7h2v7zm4 0h-2V7h2v10zm4 0h-2v-4h2v4z\"/>\n",
              "    </g>\n",
              "</svg>\n",
              "  </button>\n",
              "\n",
              "<style>\n",
              "  .colab-df-quickchart {\n",
              "      --bg-color: #E8F0FE;\n",
              "      --fill-color: #1967D2;\n",
              "      --hover-bg-color: #E2EBFA;\n",
              "      --hover-fill-color: #174EA6;\n",
              "      --disabled-fill-color: #AAA;\n",
              "      --disabled-bg-color: #DDD;\n",
              "  }\n",
              "\n",
              "  [theme=dark] .colab-df-quickchart {\n",
              "      --bg-color: #3B4455;\n",
              "      --fill-color: #D2E3FC;\n",
              "      --hover-bg-color: #434B5C;\n",
              "      --hover-fill-color: #FFFFFF;\n",
              "      --disabled-bg-color: #3B4455;\n",
              "      --disabled-fill-color: #666;\n",
              "  }\n",
              "\n",
              "  .colab-df-quickchart {\n",
              "    background-color: var(--bg-color);\n",
              "    border: none;\n",
              "    border-radius: 50%;\n",
              "    cursor: pointer;\n",
              "    display: none;\n",
              "    fill: var(--fill-color);\n",
              "    height: 32px;\n",
              "    padding: 0;\n",
              "    width: 32px;\n",
              "  }\n",
              "\n",
              "  .colab-df-quickchart:hover {\n",
              "    background-color: var(--hover-bg-color);\n",
              "    box-shadow: 0 1px 2px rgba(60, 64, 67, 0.3), 0 1px 3px 1px rgba(60, 64, 67, 0.15);\n",
              "    fill: var(--button-hover-fill-color);\n",
              "  }\n",
              "\n",
              "  .colab-df-quickchart-complete:disabled,\n",
              "  .colab-df-quickchart-complete:disabled:hover {\n",
              "    background-color: var(--disabled-bg-color);\n",
              "    fill: var(--disabled-fill-color);\n",
              "    box-shadow: none;\n",
              "  }\n",
              "\n",
              "  .colab-df-spinner {\n",
              "    border: 2px solid var(--fill-color);\n",
              "    border-color: transparent;\n",
              "    border-bottom-color: var(--fill-color);\n",
              "    animation:\n",
              "      spin 1s steps(1) infinite;\n",
              "  }\n",
              "\n",
              "  @keyframes spin {\n",
              "    0% {\n",
              "      border-color: transparent;\n",
              "      border-bottom-color: var(--fill-color);\n",
              "      border-left-color: var(--fill-color);\n",
              "    }\n",
              "    20% {\n",
              "      border-color: transparent;\n",
              "      border-left-color: var(--fill-color);\n",
              "      border-top-color: var(--fill-color);\n",
              "    }\n",
              "    30% {\n",
              "      border-color: transparent;\n",
              "      border-left-color: var(--fill-color);\n",
              "      border-top-color: var(--fill-color);\n",
              "      border-right-color: var(--fill-color);\n",
              "    }\n",
              "    40% {\n",
              "      border-color: transparent;\n",
              "      border-right-color: var(--fill-color);\n",
              "      border-top-color: var(--fill-color);\n",
              "    }\n",
              "    60% {\n",
              "      border-color: transparent;\n",
              "      border-right-color: var(--fill-color);\n",
              "    }\n",
              "    80% {\n",
              "      border-color: transparent;\n",
              "      border-right-color: var(--fill-color);\n",
              "      border-bottom-color: var(--fill-color);\n",
              "    }\n",
              "    90% {\n",
              "      border-color: transparent;\n",
              "      border-bottom-color: var(--fill-color);\n",
              "    }\n",
              "  }\n",
              "</style>\n",
              "\n",
              "  <script>\n",
              "    async function quickchart(key) {\n",
              "      const quickchartButtonEl =\n",
              "        document.querySelector('#' + key + ' button');\n",
              "      quickchartButtonEl.disabled = true;  // To prevent multiple clicks.\n",
              "      quickchartButtonEl.classList.add('colab-df-spinner');\n",
              "      try {\n",
              "        const charts = await google.colab.kernel.invokeFunction(\n",
              "            'suggestCharts', [key], {});\n",
              "      } catch (error) {\n",
              "        console.error('Error during call to suggestCharts:', error);\n",
              "      }\n",
              "      quickchartButtonEl.classList.remove('colab-df-spinner');\n",
              "      quickchartButtonEl.classList.add('colab-df-quickchart-complete');\n",
              "    }\n",
              "    (() => {\n",
              "      let quickchartButtonEl =\n",
              "        document.querySelector('#df-0f4aa57f-0d83-445d-bfc0-bc39bfd16fb2 button');\n",
              "      quickchartButtonEl.style.display =\n",
              "        google.colab.kernel.accessAllowed ? 'block' : 'none';\n",
              "    })();\n",
              "  </script>\n",
              "</div>\n",
              "\n",
              "  <div id=\"id_39a6695a-4c1e-4cf2-a7ee-4d12c1beb802\">\n",
              "    <style>\n",
              "      .colab-df-generate {\n",
              "        background-color: #E8F0FE;\n",
              "        border: none;\n",
              "        border-radius: 50%;\n",
              "        cursor: pointer;\n",
              "        display: none;\n",
              "        fill: #1967D2;\n",
              "        height: 32px;\n",
              "        padding: 0 0 0 0;\n",
              "        width: 32px;\n",
              "      }\n",
              "\n",
              "      .colab-df-generate:hover {\n",
              "        background-color: #E2EBFA;\n",
              "        box-shadow: 0px 1px 2px rgba(60, 64, 67, 0.3), 0px 1px 3px 1px rgba(60, 64, 67, 0.15);\n",
              "        fill: #174EA6;\n",
              "      }\n",
              "\n",
              "      [theme=dark] .colab-df-generate {\n",
              "        background-color: #3B4455;\n",
              "        fill: #D2E3FC;\n",
              "      }\n",
              "\n",
              "      [theme=dark] .colab-df-generate:hover {\n",
              "        background-color: #434B5C;\n",
              "        box-shadow: 0px 1px 3px 1px rgba(0, 0, 0, 0.15);\n",
              "        filter: drop-shadow(0px 1px 2px rgba(0, 0, 0, 0.3));\n",
              "        fill: #FFFFFF;\n",
              "      }\n",
              "    </style>\n",
              "    <button class=\"colab-df-generate\" onclick=\"generateWithVariable('df')\"\n",
              "            title=\"Generate code using this dataframe.\"\n",
              "            style=\"display:none;\">\n",
              "\n",
              "  <svg xmlns=\"http://www.w3.org/2000/svg\" height=\"24px\"viewBox=\"0 0 24 24\"\n",
              "       width=\"24px\">\n",
              "    <path d=\"M7,19H8.4L18.45,9,17,7.55,7,17.6ZM5,21V16.75L18.45,3.32a2,2,0,0,1,2.83,0l1.4,1.43a1.91,1.91,0,0,1,.58,1.4,1.91,1.91,0,0,1-.58,1.4L9.25,21ZM18.45,9,17,7.55Zm-12,3A5.31,5.31,0,0,0,4.9,8.1,5.31,5.31,0,0,0,1,6.5,5.31,5.31,0,0,0,4.9,4.9,5.31,5.31,0,0,0,6.5,1,5.31,5.31,0,0,0,8.1,4.9,5.31,5.31,0,0,0,12,6.5,5.46,5.46,0,0,0,6.5,12Z\"/>\n",
              "  </svg>\n",
              "    </button>\n",
              "    <script>\n",
              "      (() => {\n",
              "      const buttonEl =\n",
              "        document.querySelector('#id_39a6695a-4c1e-4cf2-a7ee-4d12c1beb802 button.colab-df-generate');\n",
              "      buttonEl.style.display =\n",
              "        google.colab.kernel.accessAllowed ? 'block' : 'none';\n",
              "\n",
              "      buttonEl.onclick = () => {\n",
              "        google.colab.notebook.generateWithVariable('df');\n",
              "      }\n",
              "      })();\n",
              "    </script>\n",
              "  </div>\n",
              "\n",
              "    </div>\n",
              "  </div>\n"
            ],
            "application/vnd.google.colaboratory.intrinsic+json": {
              "type": "dataframe",
              "variable_name": "df",
              "summary": "{\n  \"name\": \"df\",\n  \"rows\": 2642,\n  \"fields\": [\n    {\n      \"column\": \"DATE\",\n      \"properties\": {\n        \"dtype\": \"object\",\n        \"num_unique_values\": 2642,\n        \"samples\": [\n          \"2/5/2018\",\n          \"2/3/2021\",\n          \"23/06/2021\"\n        ],\n        \"semantic_type\": \"\",\n        \"description\": \"\"\n      }\n    },\n    {\n      \"column\": \"Revenue\",\n      \"properties\": {\n        \"dtype\": \"number\",\n        \"std\": 11602,\n        \"min\": 10043,\n        \"max\": 49979,\n        \"num_unique_values\": 2558,\n        \"samples\": [\n          12273,\n          36418,\n          10107\n        ],\n        \"semantic_type\": \"\",\n        \"description\": \"\"\n      }\n    },\n    {\n      \"column\": \"Profit_Before_Tax\",\n      \"properties\": {\n        \"dtype\": \"number\",\n        \"std\": 2606,\n        \"min\": 1001,\n        \"max\": 9997,\n        \"num_unique_values\": 2294,\n        \"samples\": [\n          6748,\n          4407,\n          3557\n        ],\n        \"semantic_type\": \"\",\n        \"description\": \"\"\n      }\n    },\n    {\n      \"column\": \"Net_Profit\",\n      \"properties\": {\n        \"dtype\": \"number\",\n        \"std\": 2426,\n        \"min\": 504,\n        \"max\": 8999,\n        \"num_unique_values\": 2278,\n        \"samples\": [\n          8357,\n          1638,\n          7083\n        ],\n        \"semantic_type\": \"\",\n        \"description\": \"\"\n      }\n    },\n    {\n      \"column\": \"Profit_Margin\",\n      \"properties\": {\n        \"dtype\": \"number\",\n        \"std\": 14.282575104011755,\n        \"min\": 1.037698944,\n        \"max\": 85.18374111,\n        \"num_unique_values\": 2642,\n        \"samples\": [\n          31.78222656,\n          16.72581698,\n          4.970517315\n        ],\n        \"semantic_type\": \"\",\n        \"description\": \"\"\n      }\n    },\n    {\n      \"column\": \"Customer_Loans\",\n      \"properties\": {\n        \"dtype\": \"number\",\n        \"std\": 10204,\n        \"min\": 5005,\n        \"max\": 39997,\n        \"num_unique_values\": 2544,\n        \"samples\": [\n          38279,\n          37378,\n          21142\n        ],\n        \"semantic_type\": \"\",\n        \"description\": \"\"\n      }\n    },\n    {\n      \"column\": \"Loans_from_Other_Organizations\",\n      \"properties\": {\n        \"dtype\": \"number\",\n        \"std\": 5493,\n        \"min\": 1002,\n        \"max\": 19982,\n        \"num_unique_values\": 2457,\n        \"samples\": [\n          1163,\n          10442,\n          16887\n        ],\n        \"semantic_type\": \"\",\n        \"description\": \"\"\n      }\n    },\n    {\n      \"column\": \"Number_of_Customers\",\n      \"properties\": {\n        \"dtype\": \"number\",\n        \"std\": 2575,\n        \"min\": 1001,\n        \"max\": 9995,\n        \"num_unique_values\": 2282,\n        \"samples\": [\n          9991,\n          1967,\n          4973\n        ],\n        \"semantic_type\": \"\",\n        \"description\": \"\"\n      }\n    },\n    {\n      \"column\": \"Customer_Classification\",\n      \"properties\": {\n        \"dtype\": \"category\",\n        \"num_unique_values\": 3,\n        \"samples\": [\n          \"Retail\",\n          \"SME\",\n          \"Corporate\"\n        ],\n        \"semantic_type\": \"\",\n        \"description\": \"\"\n      }\n    }\n  ]\n}"
            }
          },
          "metadata": {},
          "execution_count": 275
        }
      ]
    },
    {
      "cell_type": "code",
      "source": [
        "# hiển thị số dòng và số cột của dữ liệu\n",
        "\n",
        "rows, columns = df.shape\n",
        "\n",
        "print(f\"Number Of Rows : {rows}\")\n",
        "print(f\"Number Of Columns : {columns}\")"
      ],
      "metadata": {
        "colab": {
          "base_uri": "https://localhost:8080/"
        },
        "id": "l3lvpB6GbQEM",
        "outputId": "0dddc500-6390-430d-ad29-5843d1e65340"
      },
      "execution_count": null,
      "outputs": [
        {
          "output_type": "stream",
          "name": "stdout",
          "text": [
            "Number Of Rows : 2642\n",
            "Number Of Columns : 9\n"
          ]
        }
      ]
    },
    {
      "cell_type": "code",
      "source": [
        "# Hiển thị mẫu dữ liệu\n",
        "\n",
        "df.sample(1).iloc[0]"
      ],
      "metadata": {
        "colab": {
          "base_uri": "https://localhost:8080/",
          "height": 366
        },
        "id": "raPZYHmxbQ-h",
        "outputId": "f8b5eba9-bdae-4fb6-e794-f55f87c7cb31"
      },
      "execution_count": null,
      "outputs": [
        {
          "output_type": "execute_result",
          "data": {
            "text/plain": [
              "DATE                              31/05/2017\n",
              "Revenue                                44274\n",
              "Profit_Before_Tax                       6892\n",
              "Net_Profit                              2274\n",
              "Profit_Margin                       5.136197\n",
              "Customer_Loans                         33672\n",
              "Loans_from_Other_Organizations          8490\n",
              "Number_of_Customers                     2997\n",
              "Customer_Classification                  SME\n",
              "Name: 1370, dtype: object"
            ],
            "text/html": [
              "<div>\n",
              "<style scoped>\n",
              "    .dataframe tbody tr th:only-of-type {\n",
              "        vertical-align: middle;\n",
              "    }\n",
              "\n",
              "    .dataframe tbody tr th {\n",
              "        vertical-align: top;\n",
              "    }\n",
              "\n",
              "    .dataframe thead th {\n",
              "        text-align: right;\n",
              "    }\n",
              "</style>\n",
              "<table border=\"1\" class=\"dataframe\">\n",
              "  <thead>\n",
              "    <tr style=\"text-align: right;\">\n",
              "      <th></th>\n",
              "      <th>1370</th>\n",
              "    </tr>\n",
              "  </thead>\n",
              "  <tbody>\n",
              "    <tr>\n",
              "      <th>DATE</th>\n",
              "      <td>31/05/2017</td>\n",
              "    </tr>\n",
              "    <tr>\n",
              "      <th>Revenue</th>\n",
              "      <td>44274</td>\n",
              "    </tr>\n",
              "    <tr>\n",
              "      <th>Profit_Before_Tax</th>\n",
              "      <td>6892</td>\n",
              "    </tr>\n",
              "    <tr>\n",
              "      <th>Net_Profit</th>\n",
              "      <td>2274</td>\n",
              "    </tr>\n",
              "    <tr>\n",
              "      <th>Profit_Margin</th>\n",
              "      <td>5.136197</td>\n",
              "    </tr>\n",
              "    <tr>\n",
              "      <th>Customer_Loans</th>\n",
              "      <td>33672</td>\n",
              "    </tr>\n",
              "    <tr>\n",
              "      <th>Loans_from_Other_Organizations</th>\n",
              "      <td>8490</td>\n",
              "    </tr>\n",
              "    <tr>\n",
              "      <th>Number_of_Customers</th>\n",
              "      <td>2997</td>\n",
              "    </tr>\n",
              "    <tr>\n",
              "      <th>Customer_Classification</th>\n",
              "      <td>SME</td>\n",
              "    </tr>\n",
              "  </tbody>\n",
              "</table>\n",
              "</div><br><label><b>dtype:</b> object</label>"
            ]
          },
          "metadata": {},
          "execution_count": 277
        }
      ]
    },
    {
      "cell_type": "code",
      "source": [
        "# Xuất ra dữ liệu\n",
        "df.info()"
      ],
      "metadata": {
        "colab": {
          "base_uri": "https://localhost:8080/"
        },
        "id": "uZQhwYKrbTut",
        "outputId": "ffccc118-c378-4be9-d2bf-12f20d355bbb"
      },
      "execution_count": null,
      "outputs": [
        {
          "output_type": "stream",
          "name": "stdout",
          "text": [
            "<class 'pandas.core.frame.DataFrame'>\n",
            "RangeIndex: 2642 entries, 0 to 2641\n",
            "Data columns (total 9 columns):\n",
            " #   Column                          Non-Null Count  Dtype  \n",
            "---  ------                          --------------  -----  \n",
            " 0   DATE                            2642 non-null   object \n",
            " 1   Revenue                         2642 non-null   int64  \n",
            " 2   Profit_Before_Tax               2642 non-null   int64  \n",
            " 3   Net_Profit                      2642 non-null   int64  \n",
            " 4   Profit_Margin                   2642 non-null   float64\n",
            " 5   Customer_Loans                  2642 non-null   int64  \n",
            " 6   Loans_from_Other_Organizations  2642 non-null   int64  \n",
            " 7   Number_of_Customers             2642 non-null   int64  \n",
            " 8   Customer_Classification         2642 non-null   object \n",
            "dtypes: float64(1), int64(6), object(2)\n",
            "memory usage: 185.9+ KB\n"
          ]
        }
      ]
    },
    {
      "cell_type": "code",
      "source": [
        "# Xuất ra bản kê\n",
        "df.describe()"
      ],
      "metadata": {
        "colab": {
          "base_uri": "https://localhost:8080/",
          "height": 300
        },
        "id": "qhJTtJVDbXH3",
        "outputId": "1886fb1f-de2c-48e3-b007-f91132286fb0"
      },
      "execution_count": null,
      "outputs": [
        {
          "output_type": "execute_result",
          "data": {
            "text/plain": [
              "            Revenue  Profit_Before_Tax   Net_Profit  Profit_Margin  \\\n",
              "count   2642.000000        2642.000000  2642.000000    2642.000000   \n",
              "mean   29983.992808        5499.935276  4735.579864      19.107545   \n",
              "std    11602.479971        2606.806296  2426.413250      14.282575   \n",
              "min    10043.000000        1001.000000   504.000000       1.037699   \n",
              "25%    19777.250000        3235.250000  2656.000000       8.919645   \n",
              "50%    30114.500000        5495.000000  4757.000000      15.997090   \n",
              "75%    40076.000000        7729.250000  6817.500000      24.821189   \n",
              "max    49979.000000        9997.000000  8999.000000      85.183741   \n",
              "\n",
              "       Customer_Loans  Loans_from_Other_Organizations  Number_of_Customers  \n",
              "count     2642.000000                     2642.000000          2642.000000  \n",
              "mean     22292.774413                    10573.419001          5463.739591  \n",
              "std      10204.573532                     5493.715167          2575.883075  \n",
              "min       5005.000000                     1002.000000          1001.000000  \n",
              "25%      13208.250000                     5778.500000          3266.000000  \n",
              "50%      22229.000000                    10570.500000          5375.500000  \n",
              "75%      31241.000000                    15324.250000          7701.500000  \n",
              "max      39997.000000                    19982.000000          9995.000000  "
            ],
            "text/html": [
              "\n",
              "  <div id=\"df-2d4eb8af-729a-4385-904c-ba5d0e74ceb1\" class=\"colab-df-container\">\n",
              "    <div>\n",
              "<style scoped>\n",
              "    .dataframe tbody tr th:only-of-type {\n",
              "        vertical-align: middle;\n",
              "    }\n",
              "\n",
              "    .dataframe tbody tr th {\n",
              "        vertical-align: top;\n",
              "    }\n",
              "\n",
              "    .dataframe thead th {\n",
              "        text-align: right;\n",
              "    }\n",
              "</style>\n",
              "<table border=\"1\" class=\"dataframe\">\n",
              "  <thead>\n",
              "    <tr style=\"text-align: right;\">\n",
              "      <th></th>\n",
              "      <th>Revenue</th>\n",
              "      <th>Profit_Before_Tax</th>\n",
              "      <th>Net_Profit</th>\n",
              "      <th>Profit_Margin</th>\n",
              "      <th>Customer_Loans</th>\n",
              "      <th>Loans_from_Other_Organizations</th>\n",
              "      <th>Number_of_Customers</th>\n",
              "    </tr>\n",
              "  </thead>\n",
              "  <tbody>\n",
              "    <tr>\n",
              "      <th>count</th>\n",
              "      <td>2642.000000</td>\n",
              "      <td>2642.000000</td>\n",
              "      <td>2642.000000</td>\n",
              "      <td>2642.000000</td>\n",
              "      <td>2642.000000</td>\n",
              "      <td>2642.000000</td>\n",
              "      <td>2642.000000</td>\n",
              "    </tr>\n",
              "    <tr>\n",
              "      <th>mean</th>\n",
              "      <td>29983.992808</td>\n",
              "      <td>5499.935276</td>\n",
              "      <td>4735.579864</td>\n",
              "      <td>19.107545</td>\n",
              "      <td>22292.774413</td>\n",
              "      <td>10573.419001</td>\n",
              "      <td>5463.739591</td>\n",
              "    </tr>\n",
              "    <tr>\n",
              "      <th>std</th>\n",
              "      <td>11602.479971</td>\n",
              "      <td>2606.806296</td>\n",
              "      <td>2426.413250</td>\n",
              "      <td>14.282575</td>\n",
              "      <td>10204.573532</td>\n",
              "      <td>5493.715167</td>\n",
              "      <td>2575.883075</td>\n",
              "    </tr>\n",
              "    <tr>\n",
              "      <th>min</th>\n",
              "      <td>10043.000000</td>\n",
              "      <td>1001.000000</td>\n",
              "      <td>504.000000</td>\n",
              "      <td>1.037699</td>\n",
              "      <td>5005.000000</td>\n",
              "      <td>1002.000000</td>\n",
              "      <td>1001.000000</td>\n",
              "    </tr>\n",
              "    <tr>\n",
              "      <th>25%</th>\n",
              "      <td>19777.250000</td>\n",
              "      <td>3235.250000</td>\n",
              "      <td>2656.000000</td>\n",
              "      <td>8.919645</td>\n",
              "      <td>13208.250000</td>\n",
              "      <td>5778.500000</td>\n",
              "      <td>3266.000000</td>\n",
              "    </tr>\n",
              "    <tr>\n",
              "      <th>50%</th>\n",
              "      <td>30114.500000</td>\n",
              "      <td>5495.000000</td>\n",
              "      <td>4757.000000</td>\n",
              "      <td>15.997090</td>\n",
              "      <td>22229.000000</td>\n",
              "      <td>10570.500000</td>\n",
              "      <td>5375.500000</td>\n",
              "    </tr>\n",
              "    <tr>\n",
              "      <th>75%</th>\n",
              "      <td>40076.000000</td>\n",
              "      <td>7729.250000</td>\n",
              "      <td>6817.500000</td>\n",
              "      <td>24.821189</td>\n",
              "      <td>31241.000000</td>\n",
              "      <td>15324.250000</td>\n",
              "      <td>7701.500000</td>\n",
              "    </tr>\n",
              "    <tr>\n",
              "      <th>max</th>\n",
              "      <td>49979.000000</td>\n",
              "      <td>9997.000000</td>\n",
              "      <td>8999.000000</td>\n",
              "      <td>85.183741</td>\n",
              "      <td>39997.000000</td>\n",
              "      <td>19982.000000</td>\n",
              "      <td>9995.000000</td>\n",
              "    </tr>\n",
              "  </tbody>\n",
              "</table>\n",
              "</div>\n",
              "    <div class=\"colab-df-buttons\">\n",
              "\n",
              "  <div class=\"colab-df-container\">\n",
              "    <button class=\"colab-df-convert\" onclick=\"convertToInteractive('df-2d4eb8af-729a-4385-904c-ba5d0e74ceb1')\"\n",
              "            title=\"Convert this dataframe to an interactive table.\"\n",
              "            style=\"display:none;\">\n",
              "\n",
              "  <svg xmlns=\"http://www.w3.org/2000/svg\" height=\"24px\" viewBox=\"0 -960 960 960\">\n",
              "    <path d=\"M120-120v-720h720v720H120Zm60-500h600v-160H180v160Zm220 220h160v-160H400v160Zm0 220h160v-160H400v160ZM180-400h160v-160H180v160Zm440 0h160v-160H620v160ZM180-180h160v-160H180v160Zm440 0h160v-160H620v160Z\"/>\n",
              "  </svg>\n",
              "    </button>\n",
              "\n",
              "  <style>\n",
              "    .colab-df-container {\n",
              "      display:flex;\n",
              "      gap: 12px;\n",
              "    }\n",
              "\n",
              "    .colab-df-convert {\n",
              "      background-color: #E8F0FE;\n",
              "      border: none;\n",
              "      border-radius: 50%;\n",
              "      cursor: pointer;\n",
              "      display: none;\n",
              "      fill: #1967D2;\n",
              "      height: 32px;\n",
              "      padding: 0 0 0 0;\n",
              "      width: 32px;\n",
              "    }\n",
              "\n",
              "    .colab-df-convert:hover {\n",
              "      background-color: #E2EBFA;\n",
              "      box-shadow: 0px 1px 2px rgba(60, 64, 67, 0.3), 0px 1px 3px 1px rgba(60, 64, 67, 0.15);\n",
              "      fill: #174EA6;\n",
              "    }\n",
              "\n",
              "    .colab-df-buttons div {\n",
              "      margin-bottom: 4px;\n",
              "    }\n",
              "\n",
              "    [theme=dark] .colab-df-convert {\n",
              "      background-color: #3B4455;\n",
              "      fill: #D2E3FC;\n",
              "    }\n",
              "\n",
              "    [theme=dark] .colab-df-convert:hover {\n",
              "      background-color: #434B5C;\n",
              "      box-shadow: 0px 1px 3px 1px rgba(0, 0, 0, 0.15);\n",
              "      filter: drop-shadow(0px 1px 2px rgba(0, 0, 0, 0.3));\n",
              "      fill: #FFFFFF;\n",
              "    }\n",
              "  </style>\n",
              "\n",
              "    <script>\n",
              "      const buttonEl =\n",
              "        document.querySelector('#df-2d4eb8af-729a-4385-904c-ba5d0e74ceb1 button.colab-df-convert');\n",
              "      buttonEl.style.display =\n",
              "        google.colab.kernel.accessAllowed ? 'block' : 'none';\n",
              "\n",
              "      async function convertToInteractive(key) {\n",
              "        const element = document.querySelector('#df-2d4eb8af-729a-4385-904c-ba5d0e74ceb1');\n",
              "        const dataTable =\n",
              "          await google.colab.kernel.invokeFunction('convertToInteractive',\n",
              "                                                    [key], {});\n",
              "        if (!dataTable) return;\n",
              "\n",
              "        const docLinkHtml = 'Like what you see? Visit the ' +\n",
              "          '<a target=\"_blank\" href=https://colab.research.google.com/notebooks/data_table.ipynb>data table notebook</a>'\n",
              "          + ' to learn more about interactive tables.';\n",
              "        element.innerHTML = '';\n",
              "        dataTable['output_type'] = 'display_data';\n",
              "        await google.colab.output.renderOutput(dataTable, element);\n",
              "        const docLink = document.createElement('div');\n",
              "        docLink.innerHTML = docLinkHtml;\n",
              "        element.appendChild(docLink);\n",
              "      }\n",
              "    </script>\n",
              "  </div>\n",
              "\n",
              "\n",
              "<div id=\"df-f019462c-f20e-4119-b475-04f17cae2b80\">\n",
              "  <button class=\"colab-df-quickchart\" onclick=\"quickchart('df-f019462c-f20e-4119-b475-04f17cae2b80')\"\n",
              "            title=\"Suggest charts\"\n",
              "            style=\"display:none;\">\n",
              "\n",
              "<svg xmlns=\"http://www.w3.org/2000/svg\" height=\"24px\"viewBox=\"0 0 24 24\"\n",
              "     width=\"24px\">\n",
              "    <g>\n",
              "        <path d=\"M19 3H5c-1.1 0-2 .9-2 2v14c0 1.1.9 2 2 2h14c1.1 0 2-.9 2-2V5c0-1.1-.9-2-2-2zM9 17H7v-7h2v7zm4 0h-2V7h2v10zm4 0h-2v-4h2v4z\"/>\n",
              "    </g>\n",
              "</svg>\n",
              "  </button>\n",
              "\n",
              "<style>\n",
              "  .colab-df-quickchart {\n",
              "      --bg-color: #E8F0FE;\n",
              "      --fill-color: #1967D2;\n",
              "      --hover-bg-color: #E2EBFA;\n",
              "      --hover-fill-color: #174EA6;\n",
              "      --disabled-fill-color: #AAA;\n",
              "      --disabled-bg-color: #DDD;\n",
              "  }\n",
              "\n",
              "  [theme=dark] .colab-df-quickchart {\n",
              "      --bg-color: #3B4455;\n",
              "      --fill-color: #D2E3FC;\n",
              "      --hover-bg-color: #434B5C;\n",
              "      --hover-fill-color: #FFFFFF;\n",
              "      --disabled-bg-color: #3B4455;\n",
              "      --disabled-fill-color: #666;\n",
              "  }\n",
              "\n",
              "  .colab-df-quickchart {\n",
              "    background-color: var(--bg-color);\n",
              "    border: none;\n",
              "    border-radius: 50%;\n",
              "    cursor: pointer;\n",
              "    display: none;\n",
              "    fill: var(--fill-color);\n",
              "    height: 32px;\n",
              "    padding: 0;\n",
              "    width: 32px;\n",
              "  }\n",
              "\n",
              "  .colab-df-quickchart:hover {\n",
              "    background-color: var(--hover-bg-color);\n",
              "    box-shadow: 0 1px 2px rgba(60, 64, 67, 0.3), 0 1px 3px 1px rgba(60, 64, 67, 0.15);\n",
              "    fill: var(--button-hover-fill-color);\n",
              "  }\n",
              "\n",
              "  .colab-df-quickchart-complete:disabled,\n",
              "  .colab-df-quickchart-complete:disabled:hover {\n",
              "    background-color: var(--disabled-bg-color);\n",
              "    fill: var(--disabled-fill-color);\n",
              "    box-shadow: none;\n",
              "  }\n",
              "\n",
              "  .colab-df-spinner {\n",
              "    border: 2px solid var(--fill-color);\n",
              "    border-color: transparent;\n",
              "    border-bottom-color: var(--fill-color);\n",
              "    animation:\n",
              "      spin 1s steps(1) infinite;\n",
              "  }\n",
              "\n",
              "  @keyframes spin {\n",
              "    0% {\n",
              "      border-color: transparent;\n",
              "      border-bottom-color: var(--fill-color);\n",
              "      border-left-color: var(--fill-color);\n",
              "    }\n",
              "    20% {\n",
              "      border-color: transparent;\n",
              "      border-left-color: var(--fill-color);\n",
              "      border-top-color: var(--fill-color);\n",
              "    }\n",
              "    30% {\n",
              "      border-color: transparent;\n",
              "      border-left-color: var(--fill-color);\n",
              "      border-top-color: var(--fill-color);\n",
              "      border-right-color: var(--fill-color);\n",
              "    }\n",
              "    40% {\n",
              "      border-color: transparent;\n",
              "      border-right-color: var(--fill-color);\n",
              "      border-top-color: var(--fill-color);\n",
              "    }\n",
              "    60% {\n",
              "      border-color: transparent;\n",
              "      border-right-color: var(--fill-color);\n",
              "    }\n",
              "    80% {\n",
              "      border-color: transparent;\n",
              "      border-right-color: var(--fill-color);\n",
              "      border-bottom-color: var(--fill-color);\n",
              "    }\n",
              "    90% {\n",
              "      border-color: transparent;\n",
              "      border-bottom-color: var(--fill-color);\n",
              "    }\n",
              "  }\n",
              "</style>\n",
              "\n",
              "  <script>\n",
              "    async function quickchart(key) {\n",
              "      const quickchartButtonEl =\n",
              "        document.querySelector('#' + key + ' button');\n",
              "      quickchartButtonEl.disabled = true;  // To prevent multiple clicks.\n",
              "      quickchartButtonEl.classList.add('colab-df-spinner');\n",
              "      try {\n",
              "        const charts = await google.colab.kernel.invokeFunction(\n",
              "            'suggestCharts', [key], {});\n",
              "      } catch (error) {\n",
              "        console.error('Error during call to suggestCharts:', error);\n",
              "      }\n",
              "      quickchartButtonEl.classList.remove('colab-df-spinner');\n",
              "      quickchartButtonEl.classList.add('colab-df-quickchart-complete');\n",
              "    }\n",
              "    (() => {\n",
              "      let quickchartButtonEl =\n",
              "        document.querySelector('#df-f019462c-f20e-4119-b475-04f17cae2b80 button');\n",
              "      quickchartButtonEl.style.display =\n",
              "        google.colab.kernel.accessAllowed ? 'block' : 'none';\n",
              "    })();\n",
              "  </script>\n",
              "</div>\n",
              "\n",
              "    </div>\n",
              "  </div>\n"
            ],
            "application/vnd.google.colaboratory.intrinsic+json": {
              "type": "dataframe",
              "summary": "{\n  \"name\": \"df\",\n  \"rows\": 8,\n  \"fields\": [\n    {\n      \"column\": \"Revenue\",\n      \"properties\": {\n        \"dtype\": \"number\",\n        \"std\": 16161.765137775092,\n        \"min\": 2642.0,\n        \"max\": 49979.0,\n        \"num_unique_values\": 8,\n        \"samples\": [\n          29983.992808478426,\n          30114.5,\n          2642.0\n        ],\n        \"semantic_type\": \"\",\n        \"description\": \"\"\n      }\n    },\n    {\n      \"column\": \"Profit_Before_Tax\",\n      \"properties\": {\n        \"dtype\": \"number\",\n        \"std\": 2997.7482584908284,\n        \"min\": 1001.0,\n        \"max\": 9997.0,\n        \"num_unique_values\": 8,\n        \"samples\": [\n          5499.935276305829,\n          5495.0,\n          2642.0\n        ],\n        \"semantic_type\": \"\",\n        \"description\": \"\"\n      }\n    },\n    {\n      \"column\": \"Net_Profit\",\n      \"properties\": {\n        \"dtype\": \"number\",\n        \"std\": 2728.045862901392,\n        \"min\": 504.0,\n        \"max\": 8999.0,\n        \"num_unique_values\": 8,\n        \"samples\": [\n          4735.579863739591,\n          4757.0,\n          2642.0\n        ],\n        \"semantic_type\": \"\",\n        \"description\": \"\"\n      }\n    },\n    {\n      \"column\": \"Profit_Margin\",\n      \"properties\": {\n        \"dtype\": \"number\",\n        \"std\": 925.8958021675928,\n        \"min\": 1.037698944,\n        \"max\": 2642.0,\n        \"num_unique_values\": 8,\n        \"samples\": [\n          19.10754465450568,\n          15.997090290000001,\n          2642.0\n        ],\n        \"semantic_type\": \"\",\n        \"description\": \"\"\n      }\n    },\n    {\n      \"column\": \"Customer_Loans\",\n      \"properties\": {\n        \"dtype\": \"number\",\n        \"std\": 12999.88135920473,\n        \"min\": 2642.0,\n        \"max\": 39997.0,\n        \"num_unique_values\": 8,\n        \"samples\": [\n          22292.77441332324,\n          22229.0,\n          2642.0\n        ],\n        \"semantic_type\": \"\",\n        \"description\": \"\"\n      }\n    },\n    {\n      \"column\": \"Loans_from_Other_Organizations\",\n      \"properties\": {\n        \"dtype\": \"number\",\n        \"std\": 6464.8131076643385,\n        \"min\": 1002.0,\n        \"max\": 19982.0,\n        \"num_unique_values\": 8,\n        \"samples\": [\n          10573.419000757001,\n          10570.5,\n          2642.0\n        ],\n        \"semantic_type\": \"\",\n        \"description\": \"\"\n      }\n    },\n    {\n      \"column\": \"Number_of_Customers\",\n      \"properties\": {\n        \"dtype\": \"number\",\n        \"std\": 2989.25943873145,\n        \"min\": 1001.0,\n        \"max\": 9995.0,\n        \"num_unique_values\": 8,\n        \"samples\": [\n          5463.739591218774,\n          5375.5,\n          2642.0\n        ],\n        \"semantic_type\": \"\",\n        \"description\": \"\"\n      }\n    }\n  ]\n}"
            }
          },
          "metadata": {},
          "execution_count": 279
        }
      ]
    },
    {
      "cell_type": "code",
      "source": [
        "df.nunique()"
      ],
      "metadata": {
        "colab": {
          "base_uri": "https://localhost:8080/",
          "height": 366
        },
        "id": "-ZTDoRWXbZcc",
        "outputId": "00a73f2b-6c86-4e4a-d5f3-b402749d5e23"
      },
      "execution_count": null,
      "outputs": [
        {
          "output_type": "execute_result",
          "data": {
            "text/plain": [
              "DATE                              2642\n",
              "Revenue                           2558\n",
              "Profit_Before_Tax                 2294\n",
              "Net_Profit                        2278\n",
              "Profit_Margin                     2642\n",
              "Customer_Loans                    2544\n",
              "Loans_from_Other_Organizations    2457\n",
              "Number_of_Customers               2282\n",
              "Customer_Classification              3\n",
              "dtype: int64"
            ],
            "text/html": [
              "<div>\n",
              "<style scoped>\n",
              "    .dataframe tbody tr th:only-of-type {\n",
              "        vertical-align: middle;\n",
              "    }\n",
              "\n",
              "    .dataframe tbody tr th {\n",
              "        vertical-align: top;\n",
              "    }\n",
              "\n",
              "    .dataframe thead th {\n",
              "        text-align: right;\n",
              "    }\n",
              "</style>\n",
              "<table border=\"1\" class=\"dataframe\">\n",
              "  <thead>\n",
              "    <tr style=\"text-align: right;\">\n",
              "      <th></th>\n",
              "      <th>0</th>\n",
              "    </tr>\n",
              "  </thead>\n",
              "  <tbody>\n",
              "    <tr>\n",
              "      <th>DATE</th>\n",
              "      <td>2642</td>\n",
              "    </tr>\n",
              "    <tr>\n",
              "      <th>Revenue</th>\n",
              "      <td>2558</td>\n",
              "    </tr>\n",
              "    <tr>\n",
              "      <th>Profit_Before_Tax</th>\n",
              "      <td>2294</td>\n",
              "    </tr>\n",
              "    <tr>\n",
              "      <th>Net_Profit</th>\n",
              "      <td>2278</td>\n",
              "    </tr>\n",
              "    <tr>\n",
              "      <th>Profit_Margin</th>\n",
              "      <td>2642</td>\n",
              "    </tr>\n",
              "    <tr>\n",
              "      <th>Customer_Loans</th>\n",
              "      <td>2544</td>\n",
              "    </tr>\n",
              "    <tr>\n",
              "      <th>Loans_from_Other_Organizations</th>\n",
              "      <td>2457</td>\n",
              "    </tr>\n",
              "    <tr>\n",
              "      <th>Number_of_Customers</th>\n",
              "      <td>2282</td>\n",
              "    </tr>\n",
              "    <tr>\n",
              "      <th>Customer_Classification</th>\n",
              "      <td>3</td>\n",
              "    </tr>\n",
              "  </tbody>\n",
              "</table>\n",
              "</div><br><label><b>dtype:</b> int64</label>"
            ]
          },
          "metadata": {},
          "execution_count": 280
        }
      ]
    },
    {
      "cell_type": "code",
      "source": [
        "#Xuất ra 5 dòng trên cùng\n",
        "df.head()"
      ],
      "metadata": {
        "colab": {
          "base_uri": "https://localhost:8080/",
          "height": 226
        },
        "id": "dQ7DPL8wboQq",
        "outputId": "5824cd85-caae-41b6-f72f-4b87d5b4d9e1"
      },
      "execution_count": null,
      "outputs": [
        {
          "output_type": "execute_result",
          "data": {
            "text/plain": [
              "         DATE  Revenue  Profit_Before_Tax  Net_Profit  Profit_Margin  \\\n",
              "0  30/06/2009    12732               4068        6213      48.798303   \n",
              "1    1/7/2009    31243               4463        1411       4.516212   \n",
              "2    2/7/2009    40403               8629        1807       4.472440   \n",
              "3    3/7/2009    42103               1082        1392       3.306178   \n",
              "4    6/7/2009    30757               4843         926       3.010697   \n",
              "\n",
              "   Customer_Loans  Loans_from_Other_Organizations  Number_of_Customers  \\\n",
              "0           23360                           14092                 2705   \n",
              "1            6582                           14863                 1090   \n",
              "2           23869                           15019                 7832   \n",
              "3           34905                            9246                 3424   \n",
              "4           27201                            2930                 9234   \n",
              "\n",
              "  Customer_Classification  \n",
              "0                  Retail  \n",
              "1                     SME  \n",
              "2               Corporate  \n",
              "3                  Retail  \n",
              "4               Corporate  "
            ],
            "text/html": [
              "\n",
              "  <div id=\"df-ee16cbd8-3dd6-4c2c-bb47-fb04259a6f44\" class=\"colab-df-container\">\n",
              "    <div>\n",
              "<style scoped>\n",
              "    .dataframe tbody tr th:only-of-type {\n",
              "        vertical-align: middle;\n",
              "    }\n",
              "\n",
              "    .dataframe tbody tr th {\n",
              "        vertical-align: top;\n",
              "    }\n",
              "\n",
              "    .dataframe thead th {\n",
              "        text-align: right;\n",
              "    }\n",
              "</style>\n",
              "<table border=\"1\" class=\"dataframe\">\n",
              "  <thead>\n",
              "    <tr style=\"text-align: right;\">\n",
              "      <th></th>\n",
              "      <th>DATE</th>\n",
              "      <th>Revenue</th>\n",
              "      <th>Profit_Before_Tax</th>\n",
              "      <th>Net_Profit</th>\n",
              "      <th>Profit_Margin</th>\n",
              "      <th>Customer_Loans</th>\n",
              "      <th>Loans_from_Other_Organizations</th>\n",
              "      <th>Number_of_Customers</th>\n",
              "      <th>Customer_Classification</th>\n",
              "    </tr>\n",
              "  </thead>\n",
              "  <tbody>\n",
              "    <tr>\n",
              "      <th>0</th>\n",
              "      <td>30/06/2009</td>\n",
              "      <td>12732</td>\n",
              "      <td>4068</td>\n",
              "      <td>6213</td>\n",
              "      <td>48.798303</td>\n",
              "      <td>23360</td>\n",
              "      <td>14092</td>\n",
              "      <td>2705</td>\n",
              "      <td>Retail</td>\n",
              "    </tr>\n",
              "    <tr>\n",
              "      <th>1</th>\n",
              "      <td>1/7/2009</td>\n",
              "      <td>31243</td>\n",
              "      <td>4463</td>\n",
              "      <td>1411</td>\n",
              "      <td>4.516212</td>\n",
              "      <td>6582</td>\n",
              "      <td>14863</td>\n",
              "      <td>1090</td>\n",
              "      <td>SME</td>\n",
              "    </tr>\n",
              "    <tr>\n",
              "      <th>2</th>\n",
              "      <td>2/7/2009</td>\n",
              "      <td>40403</td>\n",
              "      <td>8629</td>\n",
              "      <td>1807</td>\n",
              "      <td>4.472440</td>\n",
              "      <td>23869</td>\n",
              "      <td>15019</td>\n",
              "      <td>7832</td>\n",
              "      <td>Corporate</td>\n",
              "    </tr>\n",
              "    <tr>\n",
              "      <th>3</th>\n",
              "      <td>3/7/2009</td>\n",
              "      <td>42103</td>\n",
              "      <td>1082</td>\n",
              "      <td>1392</td>\n",
              "      <td>3.306178</td>\n",
              "      <td>34905</td>\n",
              "      <td>9246</td>\n",
              "      <td>3424</td>\n",
              "      <td>Retail</td>\n",
              "    </tr>\n",
              "    <tr>\n",
              "      <th>4</th>\n",
              "      <td>6/7/2009</td>\n",
              "      <td>30757</td>\n",
              "      <td>4843</td>\n",
              "      <td>926</td>\n",
              "      <td>3.010697</td>\n",
              "      <td>27201</td>\n",
              "      <td>2930</td>\n",
              "      <td>9234</td>\n",
              "      <td>Corporate</td>\n",
              "    </tr>\n",
              "  </tbody>\n",
              "</table>\n",
              "</div>\n",
              "    <div class=\"colab-df-buttons\">\n",
              "\n",
              "  <div class=\"colab-df-container\">\n",
              "    <button class=\"colab-df-convert\" onclick=\"convertToInteractive('df-ee16cbd8-3dd6-4c2c-bb47-fb04259a6f44')\"\n",
              "            title=\"Convert this dataframe to an interactive table.\"\n",
              "            style=\"display:none;\">\n",
              "\n",
              "  <svg xmlns=\"http://www.w3.org/2000/svg\" height=\"24px\" viewBox=\"0 -960 960 960\">\n",
              "    <path d=\"M120-120v-720h720v720H120Zm60-500h600v-160H180v160Zm220 220h160v-160H400v160Zm0 220h160v-160H400v160ZM180-400h160v-160H180v160Zm440 0h160v-160H620v160ZM180-180h160v-160H180v160Zm440 0h160v-160H620v160Z\"/>\n",
              "  </svg>\n",
              "    </button>\n",
              "\n",
              "  <style>\n",
              "    .colab-df-container {\n",
              "      display:flex;\n",
              "      gap: 12px;\n",
              "    }\n",
              "\n",
              "    .colab-df-convert {\n",
              "      background-color: #E8F0FE;\n",
              "      border: none;\n",
              "      border-radius: 50%;\n",
              "      cursor: pointer;\n",
              "      display: none;\n",
              "      fill: #1967D2;\n",
              "      height: 32px;\n",
              "      padding: 0 0 0 0;\n",
              "      width: 32px;\n",
              "    }\n",
              "\n",
              "    .colab-df-convert:hover {\n",
              "      background-color: #E2EBFA;\n",
              "      box-shadow: 0px 1px 2px rgba(60, 64, 67, 0.3), 0px 1px 3px 1px rgba(60, 64, 67, 0.15);\n",
              "      fill: #174EA6;\n",
              "    }\n",
              "\n",
              "    .colab-df-buttons div {\n",
              "      margin-bottom: 4px;\n",
              "    }\n",
              "\n",
              "    [theme=dark] .colab-df-convert {\n",
              "      background-color: #3B4455;\n",
              "      fill: #D2E3FC;\n",
              "    }\n",
              "\n",
              "    [theme=dark] .colab-df-convert:hover {\n",
              "      background-color: #434B5C;\n",
              "      box-shadow: 0px 1px 3px 1px rgba(0, 0, 0, 0.15);\n",
              "      filter: drop-shadow(0px 1px 2px rgba(0, 0, 0, 0.3));\n",
              "      fill: #FFFFFF;\n",
              "    }\n",
              "  </style>\n",
              "\n",
              "    <script>\n",
              "      const buttonEl =\n",
              "        document.querySelector('#df-ee16cbd8-3dd6-4c2c-bb47-fb04259a6f44 button.colab-df-convert');\n",
              "      buttonEl.style.display =\n",
              "        google.colab.kernel.accessAllowed ? 'block' : 'none';\n",
              "\n",
              "      async function convertToInteractive(key) {\n",
              "        const element = document.querySelector('#df-ee16cbd8-3dd6-4c2c-bb47-fb04259a6f44');\n",
              "        const dataTable =\n",
              "          await google.colab.kernel.invokeFunction('convertToInteractive',\n",
              "                                                    [key], {});\n",
              "        if (!dataTable) return;\n",
              "\n",
              "        const docLinkHtml = 'Like what you see? Visit the ' +\n",
              "          '<a target=\"_blank\" href=https://colab.research.google.com/notebooks/data_table.ipynb>data table notebook</a>'\n",
              "          + ' to learn more about interactive tables.';\n",
              "        element.innerHTML = '';\n",
              "        dataTable['output_type'] = 'display_data';\n",
              "        await google.colab.output.renderOutput(dataTable, element);\n",
              "        const docLink = document.createElement('div');\n",
              "        docLink.innerHTML = docLinkHtml;\n",
              "        element.appendChild(docLink);\n",
              "      }\n",
              "    </script>\n",
              "  </div>\n",
              "\n",
              "\n",
              "<div id=\"df-7cbd43df-e979-4152-9df6-341f2bd26bbf\">\n",
              "  <button class=\"colab-df-quickchart\" onclick=\"quickchart('df-7cbd43df-e979-4152-9df6-341f2bd26bbf')\"\n",
              "            title=\"Suggest charts\"\n",
              "            style=\"display:none;\">\n",
              "\n",
              "<svg xmlns=\"http://www.w3.org/2000/svg\" height=\"24px\"viewBox=\"0 0 24 24\"\n",
              "     width=\"24px\">\n",
              "    <g>\n",
              "        <path d=\"M19 3H5c-1.1 0-2 .9-2 2v14c0 1.1.9 2 2 2h14c1.1 0 2-.9 2-2V5c0-1.1-.9-2-2-2zM9 17H7v-7h2v7zm4 0h-2V7h2v10zm4 0h-2v-4h2v4z\"/>\n",
              "    </g>\n",
              "</svg>\n",
              "  </button>\n",
              "\n",
              "<style>\n",
              "  .colab-df-quickchart {\n",
              "      --bg-color: #E8F0FE;\n",
              "      --fill-color: #1967D2;\n",
              "      --hover-bg-color: #E2EBFA;\n",
              "      --hover-fill-color: #174EA6;\n",
              "      --disabled-fill-color: #AAA;\n",
              "      --disabled-bg-color: #DDD;\n",
              "  }\n",
              "\n",
              "  [theme=dark] .colab-df-quickchart {\n",
              "      --bg-color: #3B4455;\n",
              "      --fill-color: #D2E3FC;\n",
              "      --hover-bg-color: #434B5C;\n",
              "      --hover-fill-color: #FFFFFF;\n",
              "      --disabled-bg-color: #3B4455;\n",
              "      --disabled-fill-color: #666;\n",
              "  }\n",
              "\n",
              "  .colab-df-quickchart {\n",
              "    background-color: var(--bg-color);\n",
              "    border: none;\n",
              "    border-radius: 50%;\n",
              "    cursor: pointer;\n",
              "    display: none;\n",
              "    fill: var(--fill-color);\n",
              "    height: 32px;\n",
              "    padding: 0;\n",
              "    width: 32px;\n",
              "  }\n",
              "\n",
              "  .colab-df-quickchart:hover {\n",
              "    background-color: var(--hover-bg-color);\n",
              "    box-shadow: 0 1px 2px rgba(60, 64, 67, 0.3), 0 1px 3px 1px rgba(60, 64, 67, 0.15);\n",
              "    fill: var(--button-hover-fill-color);\n",
              "  }\n",
              "\n",
              "  .colab-df-quickchart-complete:disabled,\n",
              "  .colab-df-quickchart-complete:disabled:hover {\n",
              "    background-color: var(--disabled-bg-color);\n",
              "    fill: var(--disabled-fill-color);\n",
              "    box-shadow: none;\n",
              "  }\n",
              "\n",
              "  .colab-df-spinner {\n",
              "    border: 2px solid var(--fill-color);\n",
              "    border-color: transparent;\n",
              "    border-bottom-color: var(--fill-color);\n",
              "    animation:\n",
              "      spin 1s steps(1) infinite;\n",
              "  }\n",
              "\n",
              "  @keyframes spin {\n",
              "    0% {\n",
              "      border-color: transparent;\n",
              "      border-bottom-color: var(--fill-color);\n",
              "      border-left-color: var(--fill-color);\n",
              "    }\n",
              "    20% {\n",
              "      border-color: transparent;\n",
              "      border-left-color: var(--fill-color);\n",
              "      border-top-color: var(--fill-color);\n",
              "    }\n",
              "    30% {\n",
              "      border-color: transparent;\n",
              "      border-left-color: var(--fill-color);\n",
              "      border-top-color: var(--fill-color);\n",
              "      border-right-color: var(--fill-color);\n",
              "    }\n",
              "    40% {\n",
              "      border-color: transparent;\n",
              "      border-right-color: var(--fill-color);\n",
              "      border-top-color: var(--fill-color);\n",
              "    }\n",
              "    60% {\n",
              "      border-color: transparent;\n",
              "      border-right-color: var(--fill-color);\n",
              "    }\n",
              "    80% {\n",
              "      border-color: transparent;\n",
              "      border-right-color: var(--fill-color);\n",
              "      border-bottom-color: var(--fill-color);\n",
              "    }\n",
              "    90% {\n",
              "      border-color: transparent;\n",
              "      border-bottom-color: var(--fill-color);\n",
              "    }\n",
              "  }\n",
              "</style>\n",
              "\n",
              "  <script>\n",
              "    async function quickchart(key) {\n",
              "      const quickchartButtonEl =\n",
              "        document.querySelector('#' + key + ' button');\n",
              "      quickchartButtonEl.disabled = true;  // To prevent multiple clicks.\n",
              "      quickchartButtonEl.classList.add('colab-df-spinner');\n",
              "      try {\n",
              "        const charts = await google.colab.kernel.invokeFunction(\n",
              "            'suggestCharts', [key], {});\n",
              "      } catch (error) {\n",
              "        console.error('Error during call to suggestCharts:', error);\n",
              "      }\n",
              "      quickchartButtonEl.classList.remove('colab-df-spinner');\n",
              "      quickchartButtonEl.classList.add('colab-df-quickchart-complete');\n",
              "    }\n",
              "    (() => {\n",
              "      let quickchartButtonEl =\n",
              "        document.querySelector('#df-7cbd43df-e979-4152-9df6-341f2bd26bbf button');\n",
              "      quickchartButtonEl.style.display =\n",
              "        google.colab.kernel.accessAllowed ? 'block' : 'none';\n",
              "    })();\n",
              "  </script>\n",
              "</div>\n",
              "\n",
              "    </div>\n",
              "  </div>\n"
            ],
            "application/vnd.google.colaboratory.intrinsic+json": {
              "type": "dataframe",
              "variable_name": "df",
              "summary": "{\n  \"name\": \"df\",\n  \"rows\": 2642,\n  \"fields\": [\n    {\n      \"column\": \"DATE\",\n      \"properties\": {\n        \"dtype\": \"object\",\n        \"num_unique_values\": 2642,\n        \"samples\": [\n          \"2/5/2018\",\n          \"2/3/2021\",\n          \"23/06/2021\"\n        ],\n        \"semantic_type\": \"\",\n        \"description\": \"\"\n      }\n    },\n    {\n      \"column\": \"Revenue\",\n      \"properties\": {\n        \"dtype\": \"number\",\n        \"std\": 11602,\n        \"min\": 10043,\n        \"max\": 49979,\n        \"num_unique_values\": 2558,\n        \"samples\": [\n          12273,\n          36418,\n          10107\n        ],\n        \"semantic_type\": \"\",\n        \"description\": \"\"\n      }\n    },\n    {\n      \"column\": \"Profit_Before_Tax\",\n      \"properties\": {\n        \"dtype\": \"number\",\n        \"std\": 2606,\n        \"min\": 1001,\n        \"max\": 9997,\n        \"num_unique_values\": 2294,\n        \"samples\": [\n          6748,\n          4407,\n          3557\n        ],\n        \"semantic_type\": \"\",\n        \"description\": \"\"\n      }\n    },\n    {\n      \"column\": \"Net_Profit\",\n      \"properties\": {\n        \"dtype\": \"number\",\n        \"std\": 2426,\n        \"min\": 504,\n        \"max\": 8999,\n        \"num_unique_values\": 2278,\n        \"samples\": [\n          8357,\n          1638,\n          7083\n        ],\n        \"semantic_type\": \"\",\n        \"description\": \"\"\n      }\n    },\n    {\n      \"column\": \"Profit_Margin\",\n      \"properties\": {\n        \"dtype\": \"number\",\n        \"std\": 14.282575104011755,\n        \"min\": 1.037698944,\n        \"max\": 85.18374111,\n        \"num_unique_values\": 2642,\n        \"samples\": [\n          31.78222656,\n          16.72581698,\n          4.970517315\n        ],\n        \"semantic_type\": \"\",\n        \"description\": \"\"\n      }\n    },\n    {\n      \"column\": \"Customer_Loans\",\n      \"properties\": {\n        \"dtype\": \"number\",\n        \"std\": 10204,\n        \"min\": 5005,\n        \"max\": 39997,\n        \"num_unique_values\": 2544,\n        \"samples\": [\n          38279,\n          37378,\n          21142\n        ],\n        \"semantic_type\": \"\",\n        \"description\": \"\"\n      }\n    },\n    {\n      \"column\": \"Loans_from_Other_Organizations\",\n      \"properties\": {\n        \"dtype\": \"number\",\n        \"std\": 5493,\n        \"min\": 1002,\n        \"max\": 19982,\n        \"num_unique_values\": 2457,\n        \"samples\": [\n          1163,\n          10442,\n          16887\n        ],\n        \"semantic_type\": \"\",\n        \"description\": \"\"\n      }\n    },\n    {\n      \"column\": \"Number_of_Customers\",\n      \"properties\": {\n        \"dtype\": \"number\",\n        \"std\": 2575,\n        \"min\": 1001,\n        \"max\": 9995,\n        \"num_unique_values\": 2282,\n        \"samples\": [\n          9991,\n          1967,\n          4973\n        ],\n        \"semantic_type\": \"\",\n        \"description\": \"\"\n      }\n    },\n    {\n      \"column\": \"Customer_Classification\",\n      \"properties\": {\n        \"dtype\": \"category\",\n        \"num_unique_values\": 3,\n        \"samples\": [\n          \"Retail\",\n          \"SME\",\n          \"Corporate\"\n        ],\n        \"semantic_type\": \"\",\n        \"description\": \"\"\n      }\n    }\n  ]\n}"
            }
          },
          "metadata": {},
          "execution_count": 281
        }
      ]
    },
    {
      "cell_type": "code",
      "source": [
        "# Xác định các cột không phải số\n",
        "non_numeric_cols = df.select_dtypes(exclude=['number']).columns\n",
        "non_numeric_cols"
      ],
      "metadata": {
        "colab": {
          "base_uri": "https://localhost:8080/"
        },
        "id": "j2HWtO0VMQXX",
        "outputId": "fbca75e7-92c5-48c1-bc69-3d4a7484f1ec"
      },
      "execution_count": null,
      "outputs": [
        {
          "output_type": "execute_result",
          "data": {
            "text/plain": [
              "Index(['DATE', 'Customer_Classification'], dtype='object')"
            ]
          },
          "metadata": {},
          "execution_count": 282
        }
      ]
    },
    {
      "cell_type": "code",
      "source": [
        "# Chuyển đổi cột DATE thành kiểu dữ liệu datetime\n",
        "df['DATE'] = pd.to_datetime(df['DATE'])\n",
        "\n",
        "# Chỉ tính tương quan cho các cột số\n",
        "df_numeric = df.drop(columns=non_numeric_cols)\n",
        "df_numeric.corr()"
      ],
      "metadata": {
        "colab": {
          "base_uri": "https://localhost:8080/",
          "height": 324
        },
        "id": "chbM9WTTb3gW",
        "outputId": "988eceff-5a56-40ce-a060-929cc7e32b59"
      },
      "execution_count": null,
      "outputs": [
        {
          "output_type": "stream",
          "name": "stderr",
          "text": [
            "<ipython-input-283-11b7467405fe>:2: UserWarning: Parsing dates in %d/%m/%Y format when dayfirst=False (the default) was specified. Pass `dayfirst=True` or specify a format to silence this warning.\n",
            "  df['DATE'] = pd.to_datetime(df['DATE'])\n"
          ]
        },
        {
          "output_type": "execute_result",
          "data": {
            "text/plain": [
              "                                 Revenue  Profit_Before_Tax  Net_Profit  \\\n",
              "Revenue                         1.000000          -0.016836    0.003892   \n",
              "Profit_Before_Tax              -0.016836           1.000000    0.004120   \n",
              "Net_Profit                      0.003892           0.004120    1.000000   \n",
              "Profit_Margin                  -0.599832           0.011258    0.678903   \n",
              "Customer_Loans                 -0.011731           0.011033   -0.023781   \n",
              "Loans_from_Other_Organizations  0.004588          -0.028840    0.011795   \n",
              "Number_of_Customers             0.017565          -0.017503    0.009391   \n",
              "\n",
              "                                Profit_Margin  Customer_Loans  \\\n",
              "Revenue                             -0.599832       -0.011731   \n",
              "Profit_Before_Tax                    0.011258        0.011033   \n",
              "Net_Profit                           0.678903       -0.023781   \n",
              "Profit_Margin                        1.000000       -0.015738   \n",
              "Customer_Loans                      -0.015738        1.000000   \n",
              "Loans_from_Other_Organizations       0.008552        0.016885   \n",
              "Number_of_Customers                 -0.012137        0.029173   \n",
              "\n",
              "                                Loans_from_Other_Organizations  \\\n",
              "Revenue                                               0.004588   \n",
              "Profit_Before_Tax                                    -0.028840   \n",
              "Net_Profit                                            0.011795   \n",
              "Profit_Margin                                         0.008552   \n",
              "Customer_Loans                                        0.016885   \n",
              "Loans_from_Other_Organizations                        1.000000   \n",
              "Number_of_Customers                                   0.022109   \n",
              "\n",
              "                                Number_of_Customers  \n",
              "Revenue                                    0.017565  \n",
              "Profit_Before_Tax                         -0.017503  \n",
              "Net_Profit                                 0.009391  \n",
              "Profit_Margin                             -0.012137  \n",
              "Customer_Loans                             0.029173  \n",
              "Loans_from_Other_Organizations             0.022109  \n",
              "Number_of_Customers                        1.000000  "
            ],
            "text/html": [
              "\n",
              "  <div id=\"df-1ddc920a-6f26-4317-86e9-6d0e6e260560\" class=\"colab-df-container\">\n",
              "    <div>\n",
              "<style scoped>\n",
              "    .dataframe tbody tr th:only-of-type {\n",
              "        vertical-align: middle;\n",
              "    }\n",
              "\n",
              "    .dataframe tbody tr th {\n",
              "        vertical-align: top;\n",
              "    }\n",
              "\n",
              "    .dataframe thead th {\n",
              "        text-align: right;\n",
              "    }\n",
              "</style>\n",
              "<table border=\"1\" class=\"dataframe\">\n",
              "  <thead>\n",
              "    <tr style=\"text-align: right;\">\n",
              "      <th></th>\n",
              "      <th>Revenue</th>\n",
              "      <th>Profit_Before_Tax</th>\n",
              "      <th>Net_Profit</th>\n",
              "      <th>Profit_Margin</th>\n",
              "      <th>Customer_Loans</th>\n",
              "      <th>Loans_from_Other_Organizations</th>\n",
              "      <th>Number_of_Customers</th>\n",
              "    </tr>\n",
              "  </thead>\n",
              "  <tbody>\n",
              "    <tr>\n",
              "      <th>Revenue</th>\n",
              "      <td>1.000000</td>\n",
              "      <td>-0.016836</td>\n",
              "      <td>0.003892</td>\n",
              "      <td>-0.599832</td>\n",
              "      <td>-0.011731</td>\n",
              "      <td>0.004588</td>\n",
              "      <td>0.017565</td>\n",
              "    </tr>\n",
              "    <tr>\n",
              "      <th>Profit_Before_Tax</th>\n",
              "      <td>-0.016836</td>\n",
              "      <td>1.000000</td>\n",
              "      <td>0.004120</td>\n",
              "      <td>0.011258</td>\n",
              "      <td>0.011033</td>\n",
              "      <td>-0.028840</td>\n",
              "      <td>-0.017503</td>\n",
              "    </tr>\n",
              "    <tr>\n",
              "      <th>Net_Profit</th>\n",
              "      <td>0.003892</td>\n",
              "      <td>0.004120</td>\n",
              "      <td>1.000000</td>\n",
              "      <td>0.678903</td>\n",
              "      <td>-0.023781</td>\n",
              "      <td>0.011795</td>\n",
              "      <td>0.009391</td>\n",
              "    </tr>\n",
              "    <tr>\n",
              "      <th>Profit_Margin</th>\n",
              "      <td>-0.599832</td>\n",
              "      <td>0.011258</td>\n",
              "      <td>0.678903</td>\n",
              "      <td>1.000000</td>\n",
              "      <td>-0.015738</td>\n",
              "      <td>0.008552</td>\n",
              "      <td>-0.012137</td>\n",
              "    </tr>\n",
              "    <tr>\n",
              "      <th>Customer_Loans</th>\n",
              "      <td>-0.011731</td>\n",
              "      <td>0.011033</td>\n",
              "      <td>-0.023781</td>\n",
              "      <td>-0.015738</td>\n",
              "      <td>1.000000</td>\n",
              "      <td>0.016885</td>\n",
              "      <td>0.029173</td>\n",
              "    </tr>\n",
              "    <tr>\n",
              "      <th>Loans_from_Other_Organizations</th>\n",
              "      <td>0.004588</td>\n",
              "      <td>-0.028840</td>\n",
              "      <td>0.011795</td>\n",
              "      <td>0.008552</td>\n",
              "      <td>0.016885</td>\n",
              "      <td>1.000000</td>\n",
              "      <td>0.022109</td>\n",
              "    </tr>\n",
              "    <tr>\n",
              "      <th>Number_of_Customers</th>\n",
              "      <td>0.017565</td>\n",
              "      <td>-0.017503</td>\n",
              "      <td>0.009391</td>\n",
              "      <td>-0.012137</td>\n",
              "      <td>0.029173</td>\n",
              "      <td>0.022109</td>\n",
              "      <td>1.000000</td>\n",
              "    </tr>\n",
              "  </tbody>\n",
              "</table>\n",
              "</div>\n",
              "    <div class=\"colab-df-buttons\">\n",
              "\n",
              "  <div class=\"colab-df-container\">\n",
              "    <button class=\"colab-df-convert\" onclick=\"convertToInteractive('df-1ddc920a-6f26-4317-86e9-6d0e6e260560')\"\n",
              "            title=\"Convert this dataframe to an interactive table.\"\n",
              "            style=\"display:none;\">\n",
              "\n",
              "  <svg xmlns=\"http://www.w3.org/2000/svg\" height=\"24px\" viewBox=\"0 -960 960 960\">\n",
              "    <path d=\"M120-120v-720h720v720H120Zm60-500h600v-160H180v160Zm220 220h160v-160H400v160Zm0 220h160v-160H400v160ZM180-400h160v-160H180v160Zm440 0h160v-160H620v160ZM180-180h160v-160H180v160Zm440 0h160v-160H620v160Z\"/>\n",
              "  </svg>\n",
              "    </button>\n",
              "\n",
              "  <style>\n",
              "    .colab-df-container {\n",
              "      display:flex;\n",
              "      gap: 12px;\n",
              "    }\n",
              "\n",
              "    .colab-df-convert {\n",
              "      background-color: #E8F0FE;\n",
              "      border: none;\n",
              "      border-radius: 50%;\n",
              "      cursor: pointer;\n",
              "      display: none;\n",
              "      fill: #1967D2;\n",
              "      height: 32px;\n",
              "      padding: 0 0 0 0;\n",
              "      width: 32px;\n",
              "    }\n",
              "\n",
              "    .colab-df-convert:hover {\n",
              "      background-color: #E2EBFA;\n",
              "      box-shadow: 0px 1px 2px rgba(60, 64, 67, 0.3), 0px 1px 3px 1px rgba(60, 64, 67, 0.15);\n",
              "      fill: #174EA6;\n",
              "    }\n",
              "\n",
              "    .colab-df-buttons div {\n",
              "      margin-bottom: 4px;\n",
              "    }\n",
              "\n",
              "    [theme=dark] .colab-df-convert {\n",
              "      background-color: #3B4455;\n",
              "      fill: #D2E3FC;\n",
              "    }\n",
              "\n",
              "    [theme=dark] .colab-df-convert:hover {\n",
              "      background-color: #434B5C;\n",
              "      box-shadow: 0px 1px 3px 1px rgba(0, 0, 0, 0.15);\n",
              "      filter: drop-shadow(0px 1px 2px rgba(0, 0, 0, 0.3));\n",
              "      fill: #FFFFFF;\n",
              "    }\n",
              "  </style>\n",
              "\n",
              "    <script>\n",
              "      const buttonEl =\n",
              "        document.querySelector('#df-1ddc920a-6f26-4317-86e9-6d0e6e260560 button.colab-df-convert');\n",
              "      buttonEl.style.display =\n",
              "        google.colab.kernel.accessAllowed ? 'block' : 'none';\n",
              "\n",
              "      async function convertToInteractive(key) {\n",
              "        const element = document.querySelector('#df-1ddc920a-6f26-4317-86e9-6d0e6e260560');\n",
              "        const dataTable =\n",
              "          await google.colab.kernel.invokeFunction('convertToInteractive',\n",
              "                                                    [key], {});\n",
              "        if (!dataTable) return;\n",
              "\n",
              "        const docLinkHtml = 'Like what you see? Visit the ' +\n",
              "          '<a target=\"_blank\" href=https://colab.research.google.com/notebooks/data_table.ipynb>data table notebook</a>'\n",
              "          + ' to learn more about interactive tables.';\n",
              "        element.innerHTML = '';\n",
              "        dataTable['output_type'] = 'display_data';\n",
              "        await google.colab.output.renderOutput(dataTable, element);\n",
              "        const docLink = document.createElement('div');\n",
              "        docLink.innerHTML = docLinkHtml;\n",
              "        element.appendChild(docLink);\n",
              "      }\n",
              "    </script>\n",
              "  </div>\n",
              "\n",
              "\n",
              "<div id=\"df-7e911411-0ec5-4a6c-b141-d01c0efef079\">\n",
              "  <button class=\"colab-df-quickchart\" onclick=\"quickchart('df-7e911411-0ec5-4a6c-b141-d01c0efef079')\"\n",
              "            title=\"Suggest charts\"\n",
              "            style=\"display:none;\">\n",
              "\n",
              "<svg xmlns=\"http://www.w3.org/2000/svg\" height=\"24px\"viewBox=\"0 0 24 24\"\n",
              "     width=\"24px\">\n",
              "    <g>\n",
              "        <path d=\"M19 3H5c-1.1 0-2 .9-2 2v14c0 1.1.9 2 2 2h14c1.1 0 2-.9 2-2V5c0-1.1-.9-2-2-2zM9 17H7v-7h2v7zm4 0h-2V7h2v10zm4 0h-2v-4h2v4z\"/>\n",
              "    </g>\n",
              "</svg>\n",
              "  </button>\n",
              "\n",
              "<style>\n",
              "  .colab-df-quickchart {\n",
              "      --bg-color: #E8F0FE;\n",
              "      --fill-color: #1967D2;\n",
              "      --hover-bg-color: #E2EBFA;\n",
              "      --hover-fill-color: #174EA6;\n",
              "      --disabled-fill-color: #AAA;\n",
              "      --disabled-bg-color: #DDD;\n",
              "  }\n",
              "\n",
              "  [theme=dark] .colab-df-quickchart {\n",
              "      --bg-color: #3B4455;\n",
              "      --fill-color: #D2E3FC;\n",
              "      --hover-bg-color: #434B5C;\n",
              "      --hover-fill-color: #FFFFFF;\n",
              "      --disabled-bg-color: #3B4455;\n",
              "      --disabled-fill-color: #666;\n",
              "  }\n",
              "\n",
              "  .colab-df-quickchart {\n",
              "    background-color: var(--bg-color);\n",
              "    border: none;\n",
              "    border-radius: 50%;\n",
              "    cursor: pointer;\n",
              "    display: none;\n",
              "    fill: var(--fill-color);\n",
              "    height: 32px;\n",
              "    padding: 0;\n",
              "    width: 32px;\n",
              "  }\n",
              "\n",
              "  .colab-df-quickchart:hover {\n",
              "    background-color: var(--hover-bg-color);\n",
              "    box-shadow: 0 1px 2px rgba(60, 64, 67, 0.3), 0 1px 3px 1px rgba(60, 64, 67, 0.15);\n",
              "    fill: var(--button-hover-fill-color);\n",
              "  }\n",
              "\n",
              "  .colab-df-quickchart-complete:disabled,\n",
              "  .colab-df-quickchart-complete:disabled:hover {\n",
              "    background-color: var(--disabled-bg-color);\n",
              "    fill: var(--disabled-fill-color);\n",
              "    box-shadow: none;\n",
              "  }\n",
              "\n",
              "  .colab-df-spinner {\n",
              "    border: 2px solid var(--fill-color);\n",
              "    border-color: transparent;\n",
              "    border-bottom-color: var(--fill-color);\n",
              "    animation:\n",
              "      spin 1s steps(1) infinite;\n",
              "  }\n",
              "\n",
              "  @keyframes spin {\n",
              "    0% {\n",
              "      border-color: transparent;\n",
              "      border-bottom-color: var(--fill-color);\n",
              "      border-left-color: var(--fill-color);\n",
              "    }\n",
              "    20% {\n",
              "      border-color: transparent;\n",
              "      border-left-color: var(--fill-color);\n",
              "      border-top-color: var(--fill-color);\n",
              "    }\n",
              "    30% {\n",
              "      border-color: transparent;\n",
              "      border-left-color: var(--fill-color);\n",
              "      border-top-color: var(--fill-color);\n",
              "      border-right-color: var(--fill-color);\n",
              "    }\n",
              "    40% {\n",
              "      border-color: transparent;\n",
              "      border-right-color: var(--fill-color);\n",
              "      border-top-color: var(--fill-color);\n",
              "    }\n",
              "    60% {\n",
              "      border-color: transparent;\n",
              "      border-right-color: var(--fill-color);\n",
              "    }\n",
              "    80% {\n",
              "      border-color: transparent;\n",
              "      border-right-color: var(--fill-color);\n",
              "      border-bottom-color: var(--fill-color);\n",
              "    }\n",
              "    90% {\n",
              "      border-color: transparent;\n",
              "      border-bottom-color: var(--fill-color);\n",
              "    }\n",
              "  }\n",
              "</style>\n",
              "\n",
              "  <script>\n",
              "    async function quickchart(key) {\n",
              "      const quickchartButtonEl =\n",
              "        document.querySelector('#' + key + ' button');\n",
              "      quickchartButtonEl.disabled = true;  // To prevent multiple clicks.\n",
              "      quickchartButtonEl.classList.add('colab-df-spinner');\n",
              "      try {\n",
              "        const charts = await google.colab.kernel.invokeFunction(\n",
              "            'suggestCharts', [key], {});\n",
              "      } catch (error) {\n",
              "        console.error('Error during call to suggestCharts:', error);\n",
              "      }\n",
              "      quickchartButtonEl.classList.remove('colab-df-spinner');\n",
              "      quickchartButtonEl.classList.add('colab-df-quickchart-complete');\n",
              "    }\n",
              "    (() => {\n",
              "      let quickchartButtonEl =\n",
              "        document.querySelector('#df-7e911411-0ec5-4a6c-b141-d01c0efef079 button');\n",
              "      quickchartButtonEl.style.display =\n",
              "        google.colab.kernel.accessAllowed ? 'block' : 'none';\n",
              "    })();\n",
              "  </script>\n",
              "</div>\n",
              "\n",
              "    </div>\n",
              "  </div>\n"
            ],
            "application/vnd.google.colaboratory.intrinsic+json": {
              "type": "dataframe",
              "summary": "{\n  \"name\": \"df_numeric\",\n  \"rows\": 7,\n  \"fields\": [\n    {\n      \"column\": \"Revenue\",\n      \"properties\": {\n        \"dtype\": \"number\",\n        \"std\": 0.47222439239369224,\n        \"min\": -0.5998318978867268,\n        \"max\": 1.0,\n        \"num_unique_values\": 7,\n        \"samples\": [\n          1.0,\n          -0.01683598679283407,\n          0.004587991877163586\n        ],\n        \"semantic_type\": \"\",\n        \"description\": \"\"\n      }\n    },\n    {\n      \"column\": \"Profit_Before_Tax\",\n      \"properties\": {\n        \"dtype\": \"number\",\n        \"std\": 0.3806008511902082,\n        \"min\": -0.028839952355667647,\n        \"max\": 1.0,\n        \"num_unique_values\": 7,\n        \"samples\": [\n          -0.01683598679283407,\n          1.0,\n          -0.028839952355667647\n        ],\n        \"semantic_type\": \"\",\n        \"description\": \"\"\n      }\n    },\n    {\n      \"column\": \"Net_Profit\",\n      \"properties\": {\n        \"dtype\": \"number\",\n        \"std\": 0.4196144396743646,\n        \"min\": -0.023780591175291556,\n        \"max\": 1.0,\n        \"num_unique_values\": 7,\n        \"samples\": [\n          0.003891591780857432,\n          0.004119527681194704,\n          0.011795405991589947\n        ],\n        \"semantic_type\": \"\",\n        \"description\": \"\"\n      }\n    },\n    {\n      \"column\": \"Profit_Margin\",\n      \"properties\": {\n        \"dtype\": \"number\",\n        \"std\": 0.5255849716287527,\n        \"min\": -0.5998318978867268,\n        \"max\": 1.0,\n        \"num_unique_values\": 7,\n        \"samples\": [\n          -0.5998318978867268,\n          0.011257728646459377,\n          0.008551866515393849\n        ],\n        \"semantic_type\": \"\",\n        \"description\": \"\"\n      }\n    },\n    {\n      \"column\": \"Customer_Loans\",\n      \"properties\": {\n        \"dtype\": \"number\",\n        \"std\": 0.37808240991445513,\n        \"min\": -0.023780591175291556,\n        \"max\": 1.0,\n        \"num_unique_values\": 7,\n        \"samples\": [\n          -0.011731313182928565,\n          0.011033488842956893,\n          0.016884629673194422\n        ],\n        \"semantic_type\": \"\",\n        \"description\": \"\"\n      }\n    },\n    {\n      \"column\": \"Loans_from_Other_Organizations\",\n      \"properties\": {\n        \"dtype\": \"number\",\n        \"std\": 0.3761162406803967,\n        \"min\": -0.028839952355667647,\n        \"max\": 1.0,\n        \"num_unique_values\": 7,\n        \"samples\": [\n          0.004587991877163586,\n          -0.028839952355667647,\n          1.0\n        ],\n        \"semantic_type\": \"\",\n        \"description\": \"\"\n      }\n    },\n    {\n      \"column\": \"Number_of_Customers\",\n      \"properties\": {\n        \"dtype\": \"number\",\n        \"std\": 0.37530220941646686,\n        \"min\": -0.01750341123440292,\n        \"max\": 1.0,\n        \"num_unique_values\": 7,\n        \"samples\": [\n          0.017565082993124054,\n          -0.01750341123440292,\n          0.02210881236067794\n        ],\n        \"semantic_type\": \"\",\n        \"description\": \"\"\n      }\n    }\n  ]\n}"
            }
          },
          "metadata": {},
          "execution_count": 283
        }
      ]
    },
    {
      "cell_type": "code",
      "source": [
        "#Trực quan hóa về bảng tương quan\n",
        "plt.figure(figsize=(10, 8))\n",
        "corr = df_numeric.corr()\n",
        "sns.heatmap(corr, annot=True, cmap='Blues')"
      ],
      "metadata": {
        "colab": {
          "base_uri": "https://localhost:8080/",
          "height": 914
        },
        "id": "ugqVcUqMbsqZ",
        "outputId": "933c5fe9-263b-42ec-a119-4123c3d6a624"
      },
      "execution_count": null,
      "outputs": [
        {
          "output_type": "execute_result",
          "data": {
            "text/plain": [
              "<Axes: >"
            ]
          },
          "metadata": {},
          "execution_count": 284
        },
        {
          "output_type": "display_data",
          "data": {
            "text/plain": [
              "<Figure size 1000x800 with 2 Axes>"
            ],
            "image/png": "[encoded data removed]"
          },
          "metadata": {}
        }
      ]
    },
    {
      "cell_type": "code",
      "source": [
        "# Kiểm tra các giá trị Null trong bộ dữ liệu\n",
        "df.isnull().sum()"
      ],
      "metadata": {
        "colab": {
          "base_uri": "https://localhost:8080/",
          "height": 366
        },
        "id": "MfCF9EHRdC2H",
        "outputId": "e2f69985-d0cd-4ff0-a3b2-c56de13b83c9"
      },
      "execution_count": null,
      "outputs": [
        {
          "output_type": "execute_result",
          "data": {
            "text/plain": [
              "DATE                              0\n",
              "Revenue                           0\n",
              "Profit_Before_Tax                 0\n",
              "Net_Profit                        0\n",
              "Profit_Margin                     0\n",
              "Customer_Loans                    0\n",
              "Loans_from_Other_Organizations    0\n",
              "Number_of_Customers               0\n",
              "Customer_Classification           0\n",
              "dtype: int64"
            ],
            "text/html": [
              "<div>\n",
              "<style scoped>\n",
              "    .dataframe tbody tr th:only-of-type {\n",
              "        vertical-align: middle;\n",
              "    }\n",
              "\n",
              "    .dataframe tbody tr th {\n",
              "        vertical-align: top;\n",
              "    }\n",
              "\n",
              "    .dataframe thead th {\n",
              "        text-align: right;\n",
              "    }\n",
              "</style>\n",
              "<table border=\"1\" class=\"dataframe\">\n",
              "  <thead>\n",
              "    <tr style=\"text-align: right;\">\n",
              "      <th></th>\n",
              "      <th>0</th>\n",
              "    </tr>\n",
              "  </thead>\n",
              "  <tbody>\n",
              "    <tr>\n",
              "      <th>DATE</th>\n",
              "      <td>0</td>\n",
              "    </tr>\n",
              "    <tr>\n",
              "      <th>Revenue</th>\n",
              "      <td>0</td>\n",
              "    </tr>\n",
              "    <tr>\n",
              "      <th>Profit_Before_Tax</th>\n",
              "      <td>0</td>\n",
              "    </tr>\n",
              "    <tr>\n",
              "      <th>Net_Profit</th>\n",
              "      <td>0</td>\n",
              "    </tr>\n",
              "    <tr>\n",
              "      <th>Profit_Margin</th>\n",
              "      <td>0</td>\n",
              "    </tr>\n",
              "    <tr>\n",
              "      <th>Customer_Loans</th>\n",
              "      <td>0</td>\n",
              "    </tr>\n",
              "    <tr>\n",
              "      <th>Loans_from_Other_Organizations</th>\n",
              "      <td>0</td>\n",
              "    </tr>\n",
              "    <tr>\n",
              "      <th>Number_of_Customers</th>\n",
              "      <td>0</td>\n",
              "    </tr>\n",
              "    <tr>\n",
              "      <th>Customer_Classification</th>\n",
              "      <td>0</td>\n",
              "    </tr>\n",
              "  </tbody>\n",
              "</table>\n",
              "</div><br><label><b>dtype:</b> int64</label>"
            ]
          },
          "metadata": {},
          "execution_count": 285
        }
      ]
    },
    {
      "cell_type": "code",
      "source": [
        "#Kiểm tra các dòng có bị trùng hay không\n",
        "df.duplicated().sum()\n"
      ],
      "metadata": {
        "colab": {
          "base_uri": "https://localhost:8080/"
        },
        "id": "6vNSLdewdD7d",
        "outputId": "1a8fd2d4-4929-4b97-bcae-9fb822ca1914"
      },
      "execution_count": null,
      "outputs": [
        {
          "output_type": "execute_result",
          "data": {
            "text/plain": [
              "0"
            ]
          },
          "metadata": {},
          "execution_count": 286
        }
      ]
    },
    {
      "cell_type": "markdown",
      "source": [
        "Kiểm tra các giá trị ngoại lai trong bộ dữ liệu"
      ],
      "metadata": {
        "id": "pgVM4-vzhPEk"
      }
    },
    {
      "cell_type": "code",
      "source": [
        "# Các cột\n",
        "print(df.columns)\n"
      ],
      "metadata": {
        "colab": {
          "base_uri": "https://localhost:8080/"
        },
        "id": "MSfDIzLSg2j9",
        "outputId": "e45f602a-e005-4a74-afea-ccd40ea41ff9"
      },
      "execution_count": null,
      "outputs": [
        {
          "output_type": "stream",
          "name": "stdout",
          "text": [
            "Index(['DATE', 'Revenue', 'Profit_Before_Tax', 'Net_Profit', 'Profit_Margin',\n",
            "       'Customer_Loans', 'Loans_from_Other_Organizations',\n",
            "       'Number_of_Customers', 'Customer_Classification'],\n",
            "      dtype='object')\n"
          ]
        }
      ]
    },
    {
      "cell_type": "code",
      "source": [
        "# Kiểm tra theo biểu đồ Boxplot ở cột Revenue\n",
        "sns.boxplot(x = df.Revenue, color='teal')\n",
        "plt.show()"
      ],
      "metadata": {
        "colab": {
          "base_uri": "https://localhost:8080/",
          "height": 449
        },
        "id": "xZzWyRJghUDh",
        "outputId": "0adae8a5-9f62-458c-9fe9-8ea9cd68cd00"
      },
      "execution_count": null,
      "outputs": [
        {
          "output_type": "display_data",
          "data": {
            "text/plain": [
              "<Figure size 640x480 with 1 Axes>"
            ],
            "image/png": "[encoded data removed]"
          },
          "metadata": {}
        }
      ]
    },
    {
      "cell_type": "markdown",
      "source": [
        "Không xuất hiện dấu chấm chứng tỏ không có dữ liệu ngoại lai\n"
      ],
      "metadata": {
        "id": "-OovHDEshvep"
      }
    },
    {
      "cell_type": "code",
      "source": [
        "# Kiểm tra theo biểu đồ Boxplot ở cột Profit_Before_Tax\n",
        "sns.boxplot(x = df.Profit_Before_Tax, color='teal')\n",
        "plt.show()"
      ],
      "metadata": {
        "colab": {
          "base_uri": "https://localhost:8080/",
          "height": 450
        },
        "id": "OCAbmw88iGMH",
        "outputId": "caea4d5d-792d-4614-c33d-f2da51e1f411"
      },
      "execution_count": null,
      "outputs": [
        {
          "output_type": "display_data",
          "data": {
            "text/plain": [
              "<Figure size 640x480 with 1 Axes>"
            ],
            "image/png": "[encoded data removed]"
          },
          "metadata": {}
        }
      ]
    },
    {
      "cell_type": "markdown",
      "source": [
        "Không xuất hiện dấu chấm chứng tỏ không có dữ liệu ngoại lai"
      ],
      "metadata": {
        "id": "95thVHEbkTqm"
      }
    },
    {
      "cell_type": "code",
      "source": [
        "# Kiểm tra theo biểu đồ Boxplot ở cột Net_Profit\n",
        "sns.boxplot(x = df.Net_Profit, color='teal')\n",
        "plt.show()"
      ],
      "metadata": {
        "colab": {
          "base_uri": "https://localhost:8080/",
          "height": 450
        },
        "id": "LPTcet3ikVMg",
        "outputId": "01e7ef4b-7558-46b5-aba9-9005b3d9acd3"
      },
      "execution_count": null,
      "outputs": [
        {
          "output_type": "display_data",
          "data": {
            "text/plain": [
              "<Figure size 640x480 with 1 Axes>"
            ],
            "image/png": "[encoded data removed]"
          },
          "metadata": {}
        }
      ]
    },
    {
      "cell_type": "markdown",
      "source": [
        "Không xuất hiện dấu chấm chứng tỏ không có dữ liệu ngoại lai"
      ],
      "metadata": {
        "id": "JetjnlAqkgqE"
      }
    },
    {
      "cell_type": "markdown",
      "source": [
        "Xem xét các chỉ số lợi nhuận như doanh thu, lợi nhuận trước thuế, lợi nhuận ròng và biên lợi nhuận.Xem xét các khoản nợ của ngân hàng, bao gồm nợ vay từ khách hàng và nợ vay từ các tổ chức khác. Thông tin về số lượng và phân loại khách hàng, Trực quan hóa, (xây dựng thực nghiệm)"
      ],
      "metadata": {
        "id": "IeqnlCNraSoJ"
      }
    },
    {
      "cell_type": "markdown",
      "source": [
        "* Xem xét các chỉ số lợi nhuận như doanh thu, lợi nhuận trước thuế, lợi nhuận ròng và biên lợi nhuận."
      ],
      "metadata": {
        "id": "hNTIFPCpHVqa"
      }
    },
    {
      "cell_type": "code",
      "source": [
        "# Nhóm theo năm\n",
        "data_grouped_by_year = df.groupby(df['DATE'].dt.year)"
      ],
      "metadata": {
        "id": "y4VWp58YZka0"
      },
      "execution_count": null,
      "outputs": []
    },
    {
      "cell_type": "markdown",
      "source": [
        "DOANH THU(REVENUE) THEO NĂM"
      ],
      "metadata": {
        "id": "YdOWQR4Xki8y"
      }
    },
    {
      "cell_type": "code",
      "source": [
        "# Tính toán tổng Doanh thu theo năm(Revenue)\n",
        "revenue_by_year = data_grouped_by_year['Revenue'].sum()\n",
        "print(\"Doanh thu theo năm:\")\n",
        "print(revenue_by_year)"
      ],
      "metadata": {
        "colab": {
          "base_uri": "https://localhost:8080/"
        },
        "id": "4pl3q_kpxdrW",
        "outputId": "12150d40-de41-4785-beb7-6bd9c9dd9e7c"
      },
      "execution_count": null,
      "outputs": [
        {
          "output_type": "stream",
          "name": "stdout",
          "text": [
            "Doanh thu theo năm:\n",
            "DATE\n",
            "2009    3922851\n",
            "2010    7549976\n",
            "2011    6616244\n",
            "2014    5274531\n",
            "2015    7437600\n",
            "2016    7300397\n",
            "2017    7835207\n",
            "2018    7359725\n",
            "2019    7409497\n",
            "2020    7561578\n",
            "2021    7401359\n",
            "2022    3548744\n",
            "Name: Revenue, dtype: int64\n"
          ]
        }
      ]
    },
    {
      "cell_type": "markdown",
      "source": [
        "DỰ ĐOÁN DOANH THU(REVENUE) THEO NĂM CHO NĂM TIẾP THEO"
      ],
      "metadata": {
        "id": "DNZvz7a4kKDm"
      }
    },
    {
      "cell_type": "code",
      "source": [
        "# Tạo DataFrame từ dữ liệu doanh thu\n",
        "X_revenue = revenue_by_year.index.values.reshape(-1, 1)  # Năm (feature)\n",
        "y_revenue = revenue_by_year.values  # doanh thu (target)\n",
        "# Chia dữ liệu thành tập huấn luyện và tập kiểm tra\n",
        "X_train_revenue, X_test_revenue, y_train_revenue, y_test_revenue = train_test_split(X_revenue, y_revenue, test_size=0.2, random_state=42)"
      ],
      "metadata": {
        "id": "bKftdmg9yhYM"
      },
      "execution_count": null,
      "outputs": []
    },
    {
      "cell_type": "code",
      "source": [
        "# Khởi tạo mô hình Random Forest\n",
        "model_rf = RandomForestRegressor(n_estimators=100, random_state=42)\n",
        "\n",
        "# Huấn luyện mô hình\n",
        "model_rf.fit(X_train_revenue, y_train_revenue)\n",
        "\n",
        "# Dự đoán và đánh giá\n",
        "y_pred_rf = model_rf.predict(X_test_revenue)\n",
        "mse_rf = mean_squared_error(y_test_revenue, y_pred_rf)\n",
        "print(f\"Random Forest MSE: {mse_rf}\")\n"
      ],
      "metadata": {
        "colab": {
          "base_uri": "https://localhost:8080/"
        },
        "id": "lwQ-8kt6hgZu",
        "outputId": "b12f70e4-2a99-4a4c-bd0d-94fe468887de"
      },
      "execution_count": null,
      "outputs": [
        {
          "output_type": "stream",
          "name": "stdout",
          "text": [
            "Random Forest MSE: 5430220770430.937\n"
          ]
        }
      ]
    },
    {
      "cell_type": "code",
      "source": [
        "# Khởi tạo mô hình Decision Tree\n",
        "model_dt = DecisionTreeRegressor(random_state=42)\n",
        "\n",
        "# Huấn luyện mô hình\n",
        "model_dt.fit(X_train_revenue, y_train_revenue)\n",
        "\n",
        "# Dự đoán và đánh giá\n",
        "y_pred_dt = model_dt.predict(X_test_revenue)\n",
        "mse_dt = mean_squared_error(y_test_revenue, y_pred_dt)\n",
        "print(f\"Decision Tree MSE: {mse_dt}\")\n"
      ],
      "metadata": {
        "colab": {
          "base_uri": "https://localhost:8080/"
        },
        "id": "4oKgV63kvN22",
        "outputId": "27f724e1-b177-4942-e748-9f48da36c2d8"
      },
      "execution_count": null,
      "outputs": [
        {
          "output_type": "stream",
          "name": "stdout",
          "text": [
            "Decision Tree MSE: 9340602244803.666\n"
          ]
        }
      ]
    },
    {
      "cell_type": "code",
      "source": [
        "# Khởi tạo mô hình KNN\n",
        "model_knn = KNeighborsRegressor(n_neighbors=3)\n",
        "\n",
        "# Huấn luyện mô hình\n",
        "model_knn.fit(X_train_revenue, y_train_revenue)\n",
        "\n",
        "# Dự đoán và đánh giá\n",
        "y_pred_knn = model_knn.predict(X_test_revenue)\n",
        "mse_knn = mean_squared_error(y_test_revenue, y_pred_knn)\n",
        "print(f\"KNN MSE: {mse_knn}\")\n"
      ],
      "metadata": {
        "colab": {
          "base_uri": "https://localhost:8080/"
        },
        "id": "c_JlFRpPvhkQ",
        "outputId": "22f4716f-a5af-460b-8086-505a04586f61"
      },
      "execution_count": null,
      "outputs": [
        {
          "output_type": "stream",
          "name": "stdout",
          "text": [
            "KNN MSE: 3445671985975.888\n"
          ]
        }
      ]
    },
    {
      "cell_type": "code",
      "source": [
        "# So sánh MSE của các mô hình\n",
        "print(f\"Random Forest MSE: {mse_rf}\")\n",
        "print(f\"Decision Tree MSE: {mse_dt}\")\n",
        "print(f\"KNN MSE: {mse_knn}\")\n"
      ],
      "metadata": {
        "colab": {
          "base_uri": "https://localhost:8080/"
        },
        "id": "uBrORL6bwApP",
        "outputId": "2275aa0f-9a99-4abf-ba27-667c624e98f2"
      },
      "execution_count": null,
      "outputs": [
        {
          "output_type": "stream",
          "name": "stdout",
          "text": [
            "Random Forest MSE: 5430220770430.937\n",
            "Decision Tree MSE: 9340602244803.666\n",
            "KNN MSE: 27737855185283.332\n"
          ]
        }
      ]
    },
    {
      "cell_type": "markdown",
      "source": [
        "Từ 3 mô hình dự đoán bao gồm: K-Nearest Neighbors, Random Forest, Decision Tree Classifier. Ta có thể thấy được rằng mô hình K-Nearest Neighbors là mô hình có khả năng dự đoán tốt nhất nên ta sẽ sử dụng K-Nearest Neighbors đối với các đối tượng còn lại"
      ],
      "metadata": {
        "id": "AQ5jfKmkxKG9"
      }
    },
    {
      "cell_type": "code",
      "source": [
        "# Dự đoán doanh thu cho năm tiếp theo (2023 chẳng hạn)\n",
        "predicted_revenue_2023 = model_knn.predict([[2023]])\n",
        "print(f\"Dự đoán doanh thu cho năm 2023: {predicted_revenue_2023[0]}\")"
      ],
      "metadata": {
        "colab": {
          "base_uri": "https://localhost:8080/"
        },
        "id": "zbn1OqoQhkhC",
        "outputId": "b02c54ab-adbe-4890-b3fb-0ce2275a993f"
      },
      "execution_count": null,
      "outputs": [
        {
          "output_type": "stream",
          "name": "stdout",
          "text": [
            "Dự đoán doanh thu cho năm 2023: 6105988.666666667\n"
          ]
        }
      ]
    },
    {
      "cell_type": "markdown",
      "source": [
        "TRỰC QUAN HOÁ DOANH THU THEO NĂM(REVENUE)"
      ],
      "metadata": {
        "id": "iKCtkKXrqQd3"
      }
    },
    {
      "cell_type": "code",
      "source": [
        "# Biểu đồ đường cho Doanh thu theo năm(Revenue)\n",
        "revenue_by_year.plot(kind='line',marker='o', label='Doanh thu', color='b')\n",
        "\n",
        "plt.xlabel('Năm')\n",
        "plt.ylabel('Giá trị')\n",
        "plt.title('Biểu đồ đường Doanh thu theo năm(Revenue)')\n",
        "plt.legend()\n",
        "plt.show()"
      ],
      "metadata": {
        "colab": {
          "base_uri": "https://localhost:8080/",
          "height": 474
        },
        "id": "BmvjQORB4s-1",
        "outputId": "be964651-1126-44d6-bcb7-f67a784cbdd6"
      },
      "execution_count": null,
      "outputs": [
        {
          "output_type": "display_data",
          "data": {
            "text/plain": [
              "<Figure size 640x480 with 1 Axes>"
            ],
            "image/png": "[encoded data removed]"
          },
          "metadata": {}
        }
      ]
    },
    {
      "cell_type": "code",
      "source": [
        "# Create the bar chart\n",
        "fig, ax = plt.subplots(figsize=(10, 6))\n",
        "\n",
        "# Set the width of the bars\n",
        "width = 0.5\n",
        "bar1 = ax.bar(revenue_by_year.index, revenue_by_year, width, label='Doanh thu',color='b')\n",
        "\n",
        "# Set the labels and title\n",
        "ax.set_xlabel('Năm')\n",
        "ax.set_ylabel('Giá trị')\n",
        "ax.set_title('Biểu đồ cột Doanh thu theo năm(Revenue)')\n",
        "ax.legend()\n",
        "plt.grid()\n",
        "plt.show()"
      ],
      "metadata": {
        "colab": {
          "base_uri": "https://localhost:8080/",
          "height": 565
        },
        "id": "m8VXzq1vAu1j",
        "outputId": "ad0afdf6-9e59-45f6-95ed-086759331e06"
      },
      "execution_count": null,
      "outputs": [
        {
          "output_type": "display_data",
          "data": {
            "text/plain": [
              "<Figure size 1000x600 with 1 Axes>"
            ],
            "image/png": "[encoded data removed]"
          },
          "metadata": {}
        }
      ]
    },
    {
      "cell_type": "markdown",
      "source": [
        "LỢI NHUÂN TRƯỚC THUẾ THEO NĂM"
      ],
      "metadata": {
        "id": "_bdEDpBBkbqV"
      }
    },
    {
      "cell_type": "code",
      "source": [
        "# Tính toán tổng Lợi nhuận trước thuế theo năm(Profit_Before_Tax)\n",
        "profit_before_tax_by_year = data_grouped_by_year['Profit_Before_Tax'].sum()\n",
        "print(\"\\nLợi nhuận trước thuế theo năm:\")\n",
        "print(profit_before_tax_by_year)\n"
      ],
      "metadata": {
        "colab": {
          "base_uri": "https://localhost:8080/"
        },
        "id": "2AYdxOK9xtqh",
        "outputId": "5a64fad5-fcf4-488e-cf49-7b336a9c03e2"
      },
      "execution_count": null,
      "outputs": [
        {
          "output_type": "stream",
          "name": "stdout",
          "text": [
            "\n",
            "Lợi nhuận trước thuế theo năm:\n",
            "DATE\n",
            "2009     732979\n",
            "2010    1397386\n",
            "2011    1270250\n",
            "2014     931125\n",
            "2015    1358174\n",
            "2016    1349658\n",
            "2017    1392309\n",
            "2018    1307311\n",
            "2019    1317258\n",
            "2020    1385436\n",
            "2021    1420322\n",
            "2022     668621\n",
            "Name: Profit_Before_Tax, dtype: int64\n"
          ]
        }
      ]
    },
    {
      "cell_type": "markdown",
      "source": [
        "DỰ ĐOÁN LỢI NHUÂN TRƯỚC THUẾ THEO NĂM CHO NĂM TIẾP THEO"
      ],
      "metadata": {
        "id": "N-XreR6altij"
      }
    },
    {
      "cell_type": "code",
      "source": [
        "# Tạo DataFrame từ dữ liệu lợi nhuận trước thuế\n",
        "X_profit_before = profit_before_tax_by_year.index.values.reshape(-1, 1)  # Năm (feature)\n",
        "y_profit_before = profit_before_tax_by_year.values  # Lợi nhuận trước thuế (target)\n",
        "# Chia dữ liệu thành tập huấn luyện và tập kiểm tra\n",
        "X_train_profit_before, X_test_profit_before, y_train_profit_before, y_test_profit_before = train_test_split(X_profit_before, y_profit_before, test_size=0.2, random_state=42)"
      ],
      "metadata": {
        "id": "T3Ukbod22osa"
      },
      "execution_count": null,
      "outputs": []
    },
    {
      "cell_type": "code",
      "source": [
        "# Khởi tạo mô hình KNN\n",
        "model_profit_before = KNeighborsRegressor(n_neighbors=3)\n",
        "\n",
        "# Huấn luyện mô hình\n",
        "model_profit_before.fit(X_train_profit_before, y_train_profit_before)\n",
        "\n",
        "# Dự đoán và đánh giá\n",
        "y_pred_profit_before = model_profit_before.predict(X_test_profit_before)\n",
        "mse_knn = mean_squared_error(y_test_profit_before, y_pred_knn)\n",
        "print(f\"KNN MSE: {mse_knn}\")"
      ],
      "metadata": {
        "colab": {
          "base_uri": "https://localhost:8080/"
        },
        "id": "3rkSAwjklTOr",
        "outputId": "d72b78e7-4d48-49c2-d3a6-6503da509535"
      },
      "execution_count": null,
      "outputs": [
        {
          "output_type": "stream",
          "name": "stdout",
          "text": [
            "KNN MSE: 25756739122946.668\n"
          ]
        }
      ]
    },
    {
      "cell_type": "code",
      "source": [
        "# Dự đoán lợi nhuận trước thuế cho năm tiếp theo (2023 chẳng hạn)\n",
        "predicted_profit_before_2023 = model_profit_before.predict([[2023]])\n",
        "print(f\"Dự đoán lợi nhuận trước thuế cho năm 2023: {predicted_profit_before_2023[0]}\")"
      ],
      "metadata": {
        "colab": {
          "base_uri": "https://localhost:8080/"
        },
        "id": "7KSgKsoUlgwT",
        "outputId": "055b86f1-94ec-45f1-fe2d-b7642ab965c8"
      },
      "execution_count": null,
      "outputs": [
        {
          "output_type": "stream",
          "name": "stdout",
          "text": [
            "Dự đoán lợi nhuận trước thuế cho năm 2023: 1097730.0\n"
          ]
        }
      ]
    },
    {
      "cell_type": "markdown",
      "source": [
        "TRỰC QUAN HOÁ LỢI NHUÂN TRƯỚC THUẾ THEO NĂM"
      ],
      "metadata": {
        "id": "_5BzySNIrbH5"
      }
    },
    {
      "cell_type": "code",
      "source": [
        "# Biểu đồ đường cho Lợi nhuận trước thuế theo năm(Profit Before Tax)\n",
        "profit_before_tax_by_year.plot(kind='line',marker='o', label='Lợi nhuận trước thuế',color='r')\n",
        "\n",
        "plt.xlabel('Năm')\n",
        "plt.ylabel('Giá trị')\n",
        "plt.title('Biểu đồ đường Lợi nhuận trước thuế theo năm(Profit Before Tax)')\n",
        "plt.legend()\n",
        "plt.show()"
      ],
      "metadata": {
        "colab": {
          "base_uri": "https://localhost:8080/",
          "height": 489
        },
        "id": "yXdJv9jy4w7Y",
        "outputId": "43c8b694-f3df-4b2a-e894-78605a20e546"
      },
      "execution_count": null,
      "outputs": [
        {
          "output_type": "display_data",
          "data": {
            "text/plain": [
              "<Figure size 640x480 with 1 Axes>"
            ],
            "image/png": "[encoded data removed]"
          },
          "metadata": {}
        }
      ]
    },
    {
      "cell_type": "code",
      "source": [
        "# Create the bar chart\n",
        "fig, ax = plt.subplots(figsize=(10, 6))\n",
        "\n",
        "# Set the width of the bars\n",
        "width = 0.5\n",
        "bar2 = ax.bar(profit_before_tax_by_year.index + width, profit_before_tax_by_year, width, label='Lợi nhuận trước thuế',color='r')\n",
        "\n",
        "# Set the labels and title\n",
        "ax.set_xlabel('Năm')\n",
        "ax.set_ylabel('Giá trị')\n",
        "ax.set_title('Biểu đồ cột Lợi nhuận trước thuế theo năm(Profit Before Tax)')\n",
        "ax.legend()\n",
        "plt.grid()\n",
        "plt.show()"
      ],
      "metadata": {
        "colab": {
          "base_uri": "https://localhost:8080/",
          "height": 565
        },
        "id": "gK0nXzw1BnhM",
        "outputId": "5e84e5a4-d6c2-49b4-d206-5d5afb8c7b5e"
      },
      "execution_count": null,
      "outputs": [
        {
          "output_type": "display_data",
          "data": {
            "text/plain": [
              "<Figure size 1000x600 with 1 Axes>"
            ],
            "image/png": "[encoded data removed]"
          },
          "metadata": {}
        }
      ]
    },
    {
      "cell_type": "markdown",
      "source": [
        "LỢI NHUẬN RÒNG THEO NĂM(Net_Profit)"
      ],
      "metadata": {
        "id": "gmDe3hRTly26"
      }
    },
    {
      "cell_type": "code",
      "source": [
        "# Tính toán Lợi nhuận ròng theo năm(Net_Profit)\n",
        "net_profit_by_year = data_grouped_by_year['Net_Profit'].sum()\n",
        "print(\"\\nLợi nhuận ròng theo năm:\")\n",
        "print(net_profit_by_year)"
      ],
      "metadata": {
        "colab": {
          "base_uri": "https://localhost:8080/"
        },
        "id": "Vd7KssdQx3Fp",
        "outputId": "cce0c531-1371-4f62-801b-2f2fb52b456a"
      },
      "execution_count": null,
      "outputs": [
        {
          "output_type": "stream",
          "name": "stdout",
          "text": [
            "\n",
            "Lợi nhuận ròng theo năm:\n",
            "DATE\n",
            "2009     619472\n",
            "2010    1177729\n",
            "2011    1103492\n",
            "2014     819622\n",
            "2015    1202422\n",
            "2016    1104528\n",
            "2017    1161764\n",
            "2018    1227942\n",
            "2019    1176790\n",
            "2020    1186683\n",
            "2021    1139574\n",
            "2022     591384\n",
            "Name: Net_Profit, dtype: int64\n"
          ]
        }
      ]
    },
    {
      "cell_type": "markdown",
      "source": [
        "DỰ ĐOÁN LỢI NHUẬN RÒNG THEO NĂM(Net_Profit) CHO NĂM TIẾP THEO"
      ],
      "metadata": {
        "id": "OmxUm5zcnvEQ"
      }
    },
    {
      "cell_type": "code",
      "source": [
        "# Tạo DataFrame từ dữ liệu lợi nhuận ròng\n",
        "X_net_profit = net_profit_by_year.index.values.reshape(-1, 1)  # Năm (feature)\n",
        "y_net_profit = net_profit_by_year.values  # Lợi nhuận trước thuế (target)\n",
        "# Chia dữ liệu thành tập huấn luyện và tập kiểm tra\n",
        "X_train_net_profit, X_test_net_profit, y_train_net_profit, y_test_net_profit = train_test_split(X_net_profit, y_net_profit, test_size=0.2, random_state=42)"
      ],
      "metadata": {
        "id": "HrdFtILenxRF"
      },
      "execution_count": null,
      "outputs": []
    },
    {
      "cell_type": "code",
      "source": [
        "# Khởi tạo mô hình KNN\n",
        "model_net_profit = KNeighborsRegressor(n_neighbors=3)\n",
        "\n",
        "# Huấn luyện mô hình\n",
        "model_net_profit.fit(X_train_net_profit, y_train_net_profit)\n",
        "\n",
        "# Dự đoán và đánh giá\n",
        "y_pred_net_profit = model_knn.predict(X_test_net_profit)\n",
        "mse_knn = mean_squared_error(y_test_net_profit, y_pred_knn)\n",
        "print(f\"KNN MSE: {mse_knn}\")"
      ],
      "metadata": {
        "colab": {
          "base_uri": "https://localhost:8080/"
        },
        "id": "WyoVL3Cin4q6",
        "outputId": "f03e7fad-9156-44c9-dcb6-ccbc6429c78c"
      },
      "execution_count": null,
      "outputs": [
        {
          "output_type": "stream",
          "name": "stdout",
          "text": [
            "KNN MSE: 27737855185283.332\n"
          ]
        }
      ]
    },
    {
      "cell_type": "code",
      "source": [
        "# Dự đoán lợi nhuận ròng cho năm tiếp theo (2023 chẳng hạn)\n",
        "predicted_net_profit_2023 = model_knn.predict([[2023]])\n",
        "print(f\"Dự đoán lợi nhuận ròng cho năm 2023: {predicted_net_profit_2023[0]}\")"
      ],
      "metadata": {
        "colab": {
          "base_uri": "https://localhost:8080/"
        },
        "id": "25rM-asa4UC3",
        "outputId": "f47beab4-8cc8-4b22-c6b9-416e17304db1"
      },
      "execution_count": null,
      "outputs": [
        {
          "output_type": "stream",
          "name": "stdout",
          "text": [
            "Dự đoán lợi nhuận ròng cho năm 2023: 6105988.666666667\n"
          ]
        }
      ]
    },
    {
      "cell_type": "markdown",
      "source": [
        "TRỰC QUAN HOÁ LỢI NHUẬN RÒNG THEO NĂM(Net_Profit)"
      ],
      "metadata": {
        "id": "FoPsQ5yFr8c4"
      }
    },
    {
      "cell_type": "code",
      "source": [
        "# Biểu đồ đường cho lợi nhuận ròng(Net_Profit)\n",
        "net_profit_by_year.plot(kind='line',marker='o', label='Lợi nhuận ròng',color='green')\n",
        "\n",
        "plt.xlabel('Năm')\n",
        "plt.ylabel('Giá trị')\n",
        "plt.title('Biểu đồ đường lợi nhuận ròng(Net_Profit)')\n",
        "plt.legend()\n",
        "plt.show()"
      ],
      "metadata": {
        "colab": {
          "base_uri": "https://localhost:8080/",
          "height": 474
        },
        "id": "pZtvzhPo42E-",
        "outputId": "0de14379-98aa-4023-9a89-a06d74a5d482"
      },
      "execution_count": null,
      "outputs": [
        {
          "output_type": "display_data",
          "data": {
            "text/plain": [
              "<Figure size 640x480 with 1 Axes>"
            ],
            "image/png": "[encoded data removed]"
          },
          "metadata": {}
        }
      ]
    },
    {
      "cell_type": "code",
      "source": [
        "# Create the bar chart\n",
        "fig, ax = plt.subplots(figsize=(10, 6))\n",
        "\n",
        "# Set the width of the bars\n",
        "width = 0.5\n",
        "bar3 = ax.bar(net_profit_by_year.index + 2*width, net_profit_by_year, width, label='lợi nhuận ròng',color='green')\n",
        "\n",
        "# Set the labels and title\n",
        "ax.set_xlabel('Năm')\n",
        "ax.set_ylabel('Giá trị')\n",
        "ax.set_title('Biểu đồ cột lợi nhuận ròng(Net_Profit)')\n",
        "ax.legend()\n",
        "plt.grid()\n",
        "plt.show()"
      ],
      "metadata": {
        "colab": {
          "base_uri": "https://localhost:8080/",
          "height": 566
        },
        "id": "gZT9tOUoB-5c",
        "outputId": "d8220b91-58a8-420c-9956-98318f81dd8e"
      },
      "execution_count": null,
      "outputs": [
        {
          "output_type": "display_data",
          "data": {
            "text/plain": [
              "<Figure size 1000x600 with 1 Axes>"
            ],
            "image/png": "[encoded data removed]"
          },
          "metadata": {}
        }
      ]
    },
    {
      "cell_type": "markdown",
      "source": [
        "BIÊN LỢI NHUẬN THEO NĂM(Profit_Margin)"
      ],
      "metadata": {
        "id": "tM7516G-n4I1"
      }
    },
    {
      "cell_type": "code",
      "source": [
        "# Tính toán tổng Biên lợi nhuận theo năm(Profit_Margin)\n",
        "profit_margin_by_year = (net_profit_by_year / revenue_by_year) * 100\n",
        "print(\"\\nBiên lợi nhuận theo năm:\")\n",
        "print(profit_margin_by_year)"
      ],
      "metadata": {
        "colab": {
          "base_uri": "https://localhost:8080/"
        },
        "id": "4riW_0SHx6J7",
        "outputId": "022e25f4-d194-4c0b-ab37-6afdb58e2930"
      },
      "execution_count": null,
      "outputs": [
        {
          "output_type": "stream",
          "name": "stdout",
          "text": [
            "\n",
            "Biên lợi nhuận theo năm:\n",
            "DATE\n",
            "2009    15.791372\n",
            "2010    15.599109\n",
            "2011    16.678526\n",
            "2014    15.539239\n",
            "2015    16.166801\n",
            "2016    15.129698\n",
            "2017    14.827483\n",
            "2018    16.684618\n",
            "2019    15.882185\n",
            "2020    15.693589\n",
            "2021    15.396821\n",
            "2022    16.664600\n",
            "dtype: float64\n"
          ]
        }
      ]
    },
    {
      "cell_type": "markdown",
      "source": [
        "DỰ ĐOÁN BIÊN LỢI NHUẬN THEO NĂM(Profit_Margin) CHO NĂM TIẾP THEO\n"
      ],
      "metadata": {
        "id": "WmQnICkLoLqx"
      }
    },
    {
      "cell_type": "code",
      "source": [
        "# Tạo DataFrame từ dữ liệu biên lợi nhuận\n",
        "X_profit_margin = profit_margin_by_year.index.values.reshape(-1, 1)  # Năm (feature)\n",
        "y_profit_margin = profit_margin_by_year.values  # Lợi nhuận trước thuế (target)\n",
        "\n",
        "# Chia dữ liệu thành tập huấn luyện và tập kiểm tra\n",
        "X_train_profit_margin, X_test_profit_margin, y_train_profit_margin, y_test_profit_margin = train_test_split(X_profit_margin, y_profit_margin, test_size=0.2, random_state=42)"
      ],
      "metadata": {
        "id": "-IE03gC_oT67"
      },
      "execution_count": null,
      "outputs": []
    },
    {
      "cell_type": "code",
      "source": [
        "# Khởi tạo mô hình KNN\n",
        "model_profit_margin = KNeighborsRegressor(n_neighbors=3)\n",
        "\n",
        "# Huấn luyện mô hình\n",
        "model_profit_margin.fit(X_train_profit_margin, y_train_profit_margin)\n",
        "\n",
        "# Dự đoán và đánh giá\n",
        "y_pred_knn = model_profit_margin.predict(X_test_profit_margin)\n",
        "mse_knn = mean_squared_error(y_test_profit_margin, y_pred_knn)\n",
        "print(f\"KNN MSE: {mse_knn}\")"
      ],
      "metadata": {
        "colab": {
          "base_uri": "https://localhost:8080/"
        },
        "id": "vOT_UIW0oWOl",
        "outputId": "3cc49498-e4df-438a-dfbe-41f0d5b51a80"
      },
      "execution_count": null,
      "outputs": [
        {
          "output_type": "stream",
          "name": "stdout",
          "text": [
            "KNN MSE: 0.5210585170634526\n"
          ]
        }
      ]
    },
    {
      "cell_type": "code",
      "source": [
        "# Dự đoán biên lợi nhuận cho năm tiếp theo (2023 chẳng hạn)\n",
        "predicted_profit_margin_2023 = model_profit_margin.predict([[2023]])\n",
        "print(f\"Dự đoán biên lợi nhuận cho năm 2023: {predicted_profit_margin_2023[0]}\")"
      ],
      "metadata": {
        "colab": {
          "base_uri": "https://localhost:8080/"
        },
        "id": "YkKqdB704vY2",
        "outputId": "bae7ae93-819b-45fb-fdde-15eb0899eb23"
      },
      "execution_count": null,
      "outputs": [
        {
          "output_type": "stream",
          "name": "stdout",
          "text": [
            "Dự đoán biên lợi nhuận cho năm 2023: 16.41046763147017\n"
          ]
        }
      ]
    },
    {
      "cell_type": "markdown",
      "source": [
        "TRỰC QUAN HOÁ BIÊN LỢI NHUẬN THEO NĂM(Profit_Margin)"
      ],
      "metadata": {
        "id": "e9CTxg67sZDs"
      }
    },
    {
      "cell_type": "code",
      "source": [
        "# Biểu đồ đường cho biên lợi nhuận theo năm(Profit_Margin)\n",
        "profit_margin_by_year.plot(kind='line',marker='o', label='Biên lợi nhuận', color='brown')\n",
        "\n",
        "plt.xlabel('Năm')\n",
        "plt.ylabel('Giá trị')\n",
        "plt.title('Biểu đồ đường Biên lợi nhuận theo năm(Profit_Margin)')\n",
        "plt.legend()\n",
        "plt.show()"
      ],
      "metadata": {
        "colab": {
          "base_uri": "https://localhost:8080/",
          "height": 474
        },
        "id": "Isad5d2Mzs9v",
        "outputId": "25847656-585d-442e-eb6f-68eacd891051"
      },
      "execution_count": null,
      "outputs": [
        {
          "output_type": "display_data",
          "data": {
            "text/plain": [
              "<Figure size 640x480 with 1 Axes>"
            ],
            "image/png": "[encoded data removed]"
          },
          "metadata": {}
        }
      ]
    },
    {
      "cell_type": "code",
      "source": [
        "# Create the bar chart\n",
        "fig, ax = plt.subplots(figsize=(10, 6))\n",
        "\n",
        "# Set the width of the bars\n",
        "width = 0.5\n",
        "bar3 = ax.bar(profit_margin_by_year.index + 2*width, profit_margin_by_year, width, label='Biên lợi nhuận',color='brown')\n",
        "\n",
        "# Set the labels and title\n",
        "ax.set_xlabel('Năm')\n",
        "ax.set_ylabel('Giá trị')\n",
        "ax.set_title('Biểu đồ đường Biên lợi nhuận theo năm(Profit_Margin)')\n",
        "ax.legend()\n",
        "plt.grid()\n",
        "plt.show()"
      ],
      "metadata": {
        "colab": {
          "base_uri": "https://localhost:8080/",
          "height": 566
        },
        "id": "RL_fF7L_Cqk5",
        "outputId": "c6ab2ab0-7a5d-4e9b-8e5e-b7bbbb8d24fe"
      },
      "execution_count": null,
      "outputs": [
        {
          "output_type": "display_data",
          "data": {
            "text/plain": [
              "<Figure size 1000x600 with 1 Axes>"
            ],
            "image/png": "[encoded data removed]"
          },
          "metadata": {}
        }
      ]
    },
    {
      "cell_type": "markdown",
      "source": [
        "* Xem xét các khoản nợ của ngân hàng, bao gồm nợ vay từ khách hàng và nợ vay từ các tổ chức khác."
      ],
      "metadata": {
        "id": "lRiXevgsHlFk"
      }
    },
    {
      "cell_type": "markdown",
      "source": [
        "TỔNG NỢ CHO KHÁCH HÀNG VAY THEO NĂM(customer_loans_by_year)"
      ],
      "metadata": {
        "id": "ASFEyeUStCqi"
      }
    },
    {
      "cell_type": "code",
      "source": [
        "# Tính toán tổng nợ cho khách hàng vay\n",
        "customer_loans_by_year = data_grouped_by_year['Customer_Loans'].sum()\n",
        "\n",
        "# In kết quả\n",
        "print(\"\\nTổng nợ cho khách hàng vay theo năm:\")\n",
        "print(customer_loans_by_year)\n"
      ],
      "metadata": {
        "colab": {
          "base_uri": "https://localhost:8080/"
        },
        "id": "s6eRTHzMyfaC",
        "outputId": "3ccf547c-546b-46aa-9000-f0601e72412b"
      },
      "execution_count": null,
      "outputs": [
        {
          "output_type": "stream",
          "name": "stdout",
          "text": [
            "\n",
            "Tổng nợ cho khách hàng vay theo năm:\n",
            "DATE\n",
            "2009    2835289\n",
            "2010    5431885\n",
            "2011    5106944\n",
            "2014    3727904\n",
            "2015    5351996\n",
            "2016    5544732\n",
            "2017    5695419\n",
            "2018    5541102\n",
            "2019    5525303\n",
            "2020    5763119\n",
            "2021    5657215\n",
            "2022    2716602\n",
            "Name: Customer_Loans, dtype: int64\n"
          ]
        }
      ]
    },
    {
      "cell_type": "markdown",
      "source": [
        "DỰ ĐOÁN TỔNG NỢ CHO KHÁCH HÀNG VAY THEO NĂM(customer_loans_by_year) CHO NĂM TIẾP THEO"
      ],
      "metadata": {
        "id": "LAs9JiTZtMG_"
      }
    },
    {
      "cell_type": "code",
      "source": [
        "# Tạo DataFrame từ dữ liệu nợ cho khách hàng vay\n",
        "X_customer_loans = customer_loans_by_year.index.values.reshape(-1, 1)  # Năm (feature)\n",
        "y_customer_loans = customer_loans_by_year.values  # Lợi nhuận trước thuế (target)\n",
        "\n",
        "# Chia dữ liệu thành tập huấn luyện và tập kiểm tra\n",
        "X_train_customer_loans, X_test_customer_loans, y_train_customer_loans, y_test_customer_loans = train_test_split(X_customer_loans, y_customer_loans, test_size=0.2, random_state=42)"
      ],
      "metadata": {
        "id": "rVqFgHyvo69G"
      },
      "execution_count": null,
      "outputs": []
    },
    {
      "cell_type": "code",
      "source": [
        "# Khởi tạo mô hình KNN\n",
        "model_customer_loans = KNeighborsRegressor(n_neighbors=3)\n",
        "\n",
        "# Huấn luyện mô hình\n",
        "model_customer_loans.fit(X_train_customer_loans, y_train_customer_loans)\n",
        "\n",
        "# Dự đoán và đánh giá\n",
        "y_pred_knn = model_customer_loans.predict(X_test_customer_loans)\n",
        "mse_knn = mean_squared_error(y_test_customer_loans, y_pred_knn)\n",
        "print(f\"KNN MSE: {mse_knn}\")"
      ],
      "metadata": {
        "colab": {
          "base_uri": "https://localhost:8080/"
        },
        "id": "ZC_Uogu7pErB",
        "outputId": "39532f89-ee5e-4f5c-f352-439afa799799"
      },
      "execution_count": null,
      "outputs": [
        {
          "output_type": "stream",
          "name": "stdout",
          "text": [
            "KNN MSE: 2061091840277.778\n"
          ]
        }
      ]
    },
    {
      "cell_type": "code",
      "source": [
        "# Dự đoán tổng nợ cho khách hàng vay cho năm tiếp theo (2023 chẳng hạn)\n",
        "predicted_customer_loans_2023 = model_customer_loans.predict([[2023]])\n",
        "print(f\"Dự đoán tổng nợ cho khác hàng vay cho năm 2023: {predicted_customer_loans_2023[0]}\")"
      ],
      "metadata": {
        "colab": {
          "base_uri": "https://localhost:8080/"
        },
        "id": "kCyLiI1p5RoL",
        "outputId": "1dd4ecb9-e129-484b-ab04-6b1885147101"
      },
      "execution_count": null,
      "outputs": [
        {
          "output_type": "stream",
          "name": "stdout",
          "text": [
            "Dự đoán tổng nợ cho khác hàng vay cho năm 2023: 4594335.666666667\n"
          ]
        }
      ]
    },
    {
      "cell_type": "markdown",
      "source": [
        "TỔNG NỢ VAY TỪ CÁC TỔ CHỨC KHÁC THEO NĂM(loans_from_other_organizations_by_year)"
      ],
      "metadata": {
        "id": "1NJc8TuQtba8"
      }
    },
    {
      "cell_type": "code",
      "source": [
        "# Tính toán tổng nợ vay từ các tổ chức khác\n",
        "loans_from_other_organizations_by_year = data_grouped_by_year['Loans_from_Other_Organizations'].sum()\n",
        "\n",
        "print(\"\\nNợ vay từ các tổ chức khác theo năm:\")\n",
        "print(loans_from_other_organizations_by_year)"
      ],
      "metadata": {
        "colab": {
          "base_uri": "https://localhost:8080/"
        },
        "id": "JvVjAsWIy2Fa",
        "outputId": "71ba9f99-8538-4103-c58c-89239982a3b8"
      },
      "execution_count": null,
      "outputs": [
        {
          "output_type": "stream",
          "name": "stdout",
          "text": [
            "\n",
            "Nợ vay từ các tổ chức khác theo năm:\n",
            "DATE\n",
            "2009    1421444\n",
            "2010    2629738\n",
            "2011    2343173\n",
            "2014    1756398\n",
            "2015    2597992\n",
            "2016    2763697\n",
            "2017    2691136\n",
            "2018    2574502\n",
            "2019    2664730\n",
            "2020    2594326\n",
            "2021    2695968\n",
            "2022    1201869\n",
            "Name: Loans_from_Other_Organizations, dtype: int64\n"
          ]
        }
      ]
    },
    {
      "cell_type": "markdown",
      "source": [
        "DỰ ĐOÁN TỔNG NỢ VAY TỪ CÁC TỔ CHỨC KHÁC THEO NĂM(loans_from_other_organizations_by_year) CHO NĂM TIẾP THEO"
      ],
      "metadata": {
        "id": "TLMCcnfXt38x"
      }
    },
    {
      "cell_type": "code",
      "source": [
        "# Tạo DataFrame từ dữ liệu nợ vay từ các tổ chức khác\n",
        "X_organizations = loans_from_other_organizations_by_year.index.values.reshape(-1, 1)  # Năm (feature)\n",
        "y_organizations = loans_from_other_organizations_by_year.values  # Lợi nhuận trước thuế (target)\n",
        "\n",
        "# Chia dữ liệu thành tập huấn luyện và tập kiểm tra\n",
        "X_train_organizations, X_test_organizations, y_train_organizations, y_test_organizations = train_test_split(X_organizations, y_organizations, test_size=0.2, random_state=42)"
      ],
      "metadata": {
        "id": "E130LQRBpc2b"
      },
      "execution_count": null,
      "outputs": []
    },
    {
      "cell_type": "code",
      "source": [
        "# Khởi tạo mô hình KNN\n",
        "model_organizations = KNeighborsRegressor(n_neighbors=3)\n",
        "\n",
        "# Huấn luyện mô hình\n",
        "model_organizations.fit(X_train_organizations, y_train_organizations)\n",
        "\n",
        "# Dự đoán và đánh giá\n",
        "y_pred_knn = model_organizations.predict(X_test_organizations)\n",
        "mse_knn = mean_squared_error(y_test_organizations, y_pred_knn)\n",
        "print(f\"KNN MSE: {mse_knn}\")"
      ],
      "metadata": {
        "colab": {
          "base_uri": "https://localhost:8080/"
        },
        "id": "a7QKYp3_pfSN",
        "outputId": "a70454ff-2af9-4062-b6b7-d2bf0e1912b7"
      },
      "execution_count": null,
      "outputs": [
        {
          "output_type": "stream",
          "name": "stdout",
          "text": [
            "KNN MSE: 392174282017.2964\n"
          ]
        }
      ]
    },
    {
      "cell_type": "code",
      "source": [
        "# Dự đoán tổng nợ vay từ các tổ chức khác cho năm tiếp theo (2023 chẳng hạn)\n",
        "predicted_organizations_2023 = model_organizations.predict([[2023]])\n",
        "print(f\"Dự đoán tổng nợ vay từ các tổ chức khác cho năm 2023: {predicted_organizations_2023[0]}\")"
      ],
      "metadata": {
        "colab": {
          "base_uri": "https://localhost:8080/"
        },
        "id": "pXJ8HD_T52M5",
        "outputId": "d492406a-5c01-431d-fde0-4303515b1094"
      },
      "execution_count": null,
      "outputs": [
        {
          "output_type": "stream",
          "name": "stdout",
          "text": [
            "Dự đoán tổng nợ vay từ các tổ chức khác cho năm 2023: 2147033.6666666665\n"
          ]
        }
      ]
    },
    {
      "cell_type": "markdown",
      "source": [
        "TRỰC QUAN HOÁ CHO CÁC KHOẢN NỢ CỦA NGÂN HÀNG"
      ],
      "metadata": {
        "id": "TteQmQzNt_Hv"
      }
    },
    {
      "cell_type": "code",
      "source": [
        "# Biểu đồ đường cho các khoản nợ của ngân hàng\n",
        "customer_loans_by_year.plot(kind='line',marker='o', label='Tổng nợ cho khách hàng vay',color='green')\n",
        "loans_from_other_organizations_by_year.plot(kind='line',marker='o', label='Tổng nợ vay từ các tổ chức khác',color='b')\n",
        "\n",
        "plt.xlabel('Năm')\n",
        "plt.ylabel('Các khoản nợ của ngân hàng')\n",
        "plt.title('Biểu đồ đường các khoản nợ của ngân hàng')\n",
        "plt.legend()\n",
        "plt.show()"
      ],
      "metadata": {
        "colab": {
          "base_uri": "https://localhost:8080/",
          "height": 474
        },
        "id": "Dh8VJNPp54gg",
        "outputId": "c42787c8-8bff-4adc-da50-9f1849c6b1a0"
      },
      "execution_count": null,
      "outputs": [
        {
          "output_type": "display_data",
          "data": {
            "text/plain": [
              "<Figure size 640x480 with 1 Axes>"
            ],
            "image/png": "[encoded data removed]"
          },
          "metadata": {}
        }
      ]
    },
    {
      "cell_type": "code",
      "source": [
        "# Create the bar chart\n",
        "fig, ax = plt.subplots(figsize=(10, 6))\n",
        "\n",
        "# Set the width of the bars\n",
        "width = 0.35\n",
        "bar = ax.bar(customer_loans_by_year.index - width/2, customer_loans_by_year, width, label='nợ cho khách hàng vay',color='green')\n",
        "bar1 = ax.bar(loans_from_other_organizations_by_year.index + width/2, loans_from_other_organizations_by_year, width, label='nợ vay từ các tổ chức khác',color='b')\n",
        "\n",
        "# Set the labels and title\n",
        "ax.set_xlabel('Năm')\n",
        "ax.set_ylabel('Giá trị')\n",
        "ax.set_title('Biểu đồ cột các khoản nợ của ngân hàng')\n",
        "ax.legend()\n",
        "plt.grid()\n",
        "plt.show()"
      ],
      "metadata": {
        "colab": {
          "base_uri": "https://localhost:8080/",
          "height": 566
        },
        "id": "gTP3nlvdH477",
        "outputId": "869a5751-c1eb-46c5-8ed5-c5cf4545b8bf"
      },
      "execution_count": null,
      "outputs": [
        {
          "output_type": "display_data",
          "data": {
            "text/plain": [
              "<Figure size 1000x600 with 1 Axes>"
            ],
            "image/png": "[encoded data removed]"
          },
          "metadata": {}
        }
      ]
    },
    {
      "cell_type": "markdown",
      "source": [
        "THÔNG TIN VỀ SỐ LƯỢNG VÀ PHÂN LOẠI KHÁC HÀNG"
      ],
      "metadata": {
        "id": "NKeqQFhIHyhC"
      }
    },
    {
      "cell_type": "code",
      "source": [
        "#Tổng số khách hàng\n",
        "customer_counts = df['Number_of_Customers'].sum()\n",
        "\n",
        "# Tính toán số lượng khách hàng theo phân loại\n",
        "customer_classification_counts = df['Customer_Classification'].value_counts()\n",
        "\n",
        "# In kết quả\n",
        "print(\"\\nTổng số khách hàng:\")\n",
        "print(customer_counts)\n",
        "\n",
        "print(\"\\nSố lượng khách hàng theo phân loại:\")\n",
        "print(customer_classification_counts)\n",
        "\n",
        "# Tính toán số lượng khách hàng theo năm và phân loại\n",
        "customer_counts_by_year_and_classification = df.groupby([df['DATE'].dt.year, 'Customer_Classification'])['Customer_Classification'].count().unstack()\n",
        "\n",
        "print(\"\\nSố lượng khách hàng theo năm và phân loại:\")\n",
        "print(customer_counts_by_year_and_classification)"
      ],
      "metadata": {
        "colab": {
          "base_uri": "https://localhost:8080/"
        },
        "id": "x7Y6ZQ8uzSx1",
        "outputId": "b811dada-ab30-49f4-e07e-2cdc920d3a5e"
      },
      "execution_count": null,
      "outputs": [
        {
          "output_type": "stream",
          "name": "stdout",
          "text": [
            "\n",
            "Tổng số khách hàng:\n",
            "14435200\n",
            "\n",
            "Số lượng khách hàng theo phân loại:\n",
            "Customer_Classification\n",
            "Corporate    915\n",
            "Retail       892\n",
            "SME          835\n",
            "Name: count, dtype: int64\n",
            "\n",
            "Số lượng khách hàng theo năm và phân loại:\n",
            "Customer_Classification  Corporate  Retail  SME\n",
            "DATE                                           \n",
            "2009                            45      38   49\n",
            "2010                            81      86   83\n",
            "2011                            86      73   64\n",
            "2014                            57      57   54\n",
            "2015                            84      79   85\n",
            "2016                            92      83   76\n",
            "2017                            73      96   81\n",
            "2018                            76      91   81\n",
            "2019                           104      70   76\n",
            "2020                            99      78   75\n",
            "2021                            74     100   76\n",
            "2022                            44      41   35\n"
          ]
        }
      ]
    },
    {
      "cell_type": "markdown",
      "source": [
        "TRỰC QUAN HOÁ THÔNG TIN VỀ SỐ LƯỢNG VÀ PHÂN LOẠI KHÁC HÀNG"
      ],
      "metadata": {
        "id": "4C585R8EDqE9"
      }
    },
    {
      "cell_type": "code",
      "source": [
        "# Biểu đồ đường cho số lượng và phân loại khách hàng\n",
        "customer_counts_by_year_and_classification.plot(kind='line',marker='o', label='Tổng nợ cho khách hàng vay')\n",
        "\n",
        "plt.xlabel('Năm')\n",
        "plt.ylabel('số lượng')\n",
        "plt.title('Biểu đồ đường số lượng và phân loại khách hàng ')\n",
        "plt.legend()\n",
        "plt.show()"
      ],
      "metadata": {
        "colab": {
          "base_uri": "https://localhost:8080/",
          "height": 474
        },
        "id": "dE34DOh88CT5",
        "outputId": "bfc1b581-d886-4f0e-931c-2786206eb02d"
      },
      "execution_count": null,
      "outputs": [
        {
          "output_type": "display_data",
          "data": {
            "text/plain": [
              "<Figure size 640x480 with 1 Axes>"
            ],
            "image/png": "[encoded data removed]"
          },
          "metadata": {}
        }
      ]
    }
  ]
}